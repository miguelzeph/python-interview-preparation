{
 "cells": [
  {
   "cell_type": "markdown",
   "id": "252d6728-6b07-447f-b5ac-965f8b90c080",
   "metadata": {},
   "source": [
    "# Essentials Built-in Functions\n",
    "\n",
    "- len()\n",
    "- sum()\n",
    "- min() and max()\n",
    "- sorted()\n",
    "- enumerate()\n",
    "- zip()\n",
    "- map() and filter()\n",
    "- all() and any()\n",
    "- range()\n",
    "- type() and isinstance()"
   ]
  },
  {
   "cell_type": "markdown",
   "id": "2ef412ad-81b8-42fd-a81e-5daeec87b76a",
   "metadata": {},
   "source": [
    "## 1. len()\n",
    "Almost every problem involving list, strings or collections requires checking their size."
   ]
  },
  {
   "cell_type": "markdown",
   "id": "ffbdaa64-25bc-48e0-917e-4e2c8092a051",
   "metadata": {},
   "source": [
    "### 1.1 counting elements / size"
   ]
  },
  {
   "cell_type": "code",
   "execution_count": 2,
   "id": "0f36010e-d61f-4873-96c5-4650db489eba",
   "metadata": {},
   "outputs": [
    {
     "data": {
      "text/plain": [
       "4"
      ]
     },
     "execution_count": 2,
     "metadata": {},
     "output_type": "execute_result"
    }
   ],
   "source": [
    "list_ = [1,2,3,4]\n",
    "len(list_)"
   ]
  },
  {
   "cell_type": "code",
   "execution_count": 3,
   "id": "ae71b8f6-e40a-4965-86ac-d2662ea27e94",
   "metadata": {},
   "outputs": [
    {
     "data": {
      "text/plain": [
       "6"
      ]
     },
     "execution_count": 3,
     "metadata": {},
     "output_type": "execute_result"
    }
   ],
   "source": [
    "name = \"Miguel\"\n",
    "len(name)"
   ]
  },
  {
   "cell_type": "markdown",
   "id": "46304ada-61cb-44af-95be-70b23214248c",
   "metadata": {},
   "source": [
    "### 1.2 Average"
   ]
  },
  {
   "cell_type": "code",
   "execution_count": 5,
   "id": "140b53f9-6034-4e16-b793-1e32761ed34a",
   "metadata": {},
   "outputs": [
    {
     "data": {
      "text/plain": [
       "10.0"
      ]
     },
     "execution_count": 5,
     "metadata": {},
     "output_type": "execute_result"
    }
   ],
   "source": [
    "x = [10,10,10,10]\n",
    "mean = sum(x)/len(x)\n",
    "mean"
   ]
  },
  {
   "cell_type": "markdown",
   "id": "bdcadf8c-e4e9-4e75-9d69-2e58045844ad",
   "metadata": {},
   "source": [
    "### 1.3 Longest word"
   ]
  },
  {
   "cell_type": "code",
   "execution_count": 6,
   "id": "e134e579-3366-4824-b037-4b0ef9abf13f",
   "metadata": {},
   "outputs": [],
   "source": [
    "words = [\"Python\", \"Computer\", \"Development\"]\n"
   ]
  },
  {
   "cell_type": "code",
   "execution_count": 8,
   "id": "572e0f06-e161-4c25-b02e-62bff0bffe3d",
   "metadata": {
    "scrolled": true
   },
   "outputs": [
    {
     "data": {
      "text/plain": [
       "'Development'"
      ]
     },
     "execution_count": 8,
     "metadata": {},
     "output_type": "execute_result"
    }
   ],
   "source": [
    "max(words, key=len)"
   ]
  },
  {
   "cell_type": "markdown",
   "id": "d2599f34-8644-4e7a-853e-f7809afa8632",
   "metadata": {},
   "source": [
    "### 1.4 Validation"
   ]
  },
  {
   "cell_type": "code",
   "execution_count": 11,
   "id": "14b3ee36-d072-4834-ac65-7eae58a03348",
   "metadata": {},
   "outputs": [
    {
     "name": "stdout",
     "output_type": "stream",
     "text": [
      "Ana\n"
     ]
    }
   ],
   "source": [
    "name = \"Ana\"\n",
    "if len(name) > 2:\n",
    "    print(name)"
   ]
  },
  {
   "cell_type": "markdown",
   "id": "6c74b77c-7fcf-4165-9662-16001f460a6f",
   "metadata": {},
   "source": [
    "### 1.5 Counting words in a sentence"
   ]
  },
  {
   "cell_type": "code",
   "execution_count": 12,
   "id": "0fb93f50-1efe-4c12-a962-04488c8eced4",
   "metadata": {},
   "outputs": [
    {
     "name": "stdout",
     "output_type": "stream",
     "text": [
      "In the sentence Python is a good language there are 5 words\n"
     ]
    }
   ],
   "source": [
    "sentence = \"Python is a good language\"\n",
    "\n",
    "words = sentence.split(\" \")\n",
    "\n",
    "total_of_words = len(words)\n",
    "\n",
    "print(f'In the sentence {sentence} there are {total_of_words} words')\n"
   ]
  },
  {
   "cell_type": "code",
   "execution_count": null,
   "id": "1d9e02db-d271-4403-94f4-808835eebc32",
   "metadata": {},
   "outputs": [],
   "source": []
  },
  {
   "cell_type": "code",
   "execution_count": null,
   "id": "e4c44150-a961-4d7a-a9f7-37a3257bab80",
   "metadata": {},
   "outputs": [],
   "source": []
  },
  {
   "cell_type": "code",
   "execution_count": null,
   "id": "acf97a75-7cb4-42e1-bac4-d806a39b6c4d",
   "metadata": {},
   "outputs": [],
   "source": []
  },
  {
   "cell_type": "code",
   "execution_count": null,
   "id": "1c70c690-62fd-487e-b2e2-04ce0c9a39bb",
   "metadata": {},
   "outputs": [],
   "source": []
  }
 ],
 "metadata": {
  "kernelspec": {
   "display_name": "Python 3 (ipykernel)",
   "language": "python",
   "name": "python3"
  },
  "language_info": {
   "codemirror_mode": {
    "name": "ipython",
    "version": 3
   },
   "file_extension": ".py",
   "mimetype": "text/x-python",
   "name": "python",
   "nbconvert_exporter": "python",
   "pygments_lexer": "ipython3",
   "version": "3.11.9"
  }
 },
 "nbformat": 4,
 "nbformat_minor": 5
}
