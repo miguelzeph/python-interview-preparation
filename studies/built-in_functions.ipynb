{
 "cells": [
  {
   "cell_type": "markdown",
   "id": "a56405ac-6b6d-44af-b8b4-2ff3f6c830d4",
   "metadata": {},
   "source": [
    "# Python Built-in Functions (Funções Embutidas)\n",
    "On python 3.11 there are about 68 python built-in functions where we can classify in around 10 groups."
   ]
  },
  {
   "cell_type": "markdown",
   "id": "771b3843-f441-457e-94c7-041d299a31d5",
   "metadata": {},
   "source": [
    "## 1. Type Conversion Functions\n",
    "\n",
    "- **Purpose**: Convert values from one type to another.\n",
    "- **Functions**:\n",
    "    - int(); float(); complex()\n",
    "    - str(); repr()\n",
    "    - bool()\n",
    "    - list(); dict(); set(); tuple(); frozenset()\n",
    "    - chr(); ord()\n",
    "    - bin(); oct(); hex()\n",
    "    - bytes(); bytearray(); memoryview()"
   ]
  },
  {
   "cell_type": "markdown",
   "id": "091faf65-78ba-4991-a536-60c2763a5893",
   "metadata": {},
   "source": [
    "### int(); float(); complex()"
   ]
  },
  {
   "cell_type": "code",
   "execution_count": 5,
   "id": "de17c98d-0c1e-4dfc-a96d-301027b15263",
   "metadata": {},
   "outputs": [
    {
     "data": {
      "text/plain": [
       "5"
      ]
     },
     "execution_count": 5,
     "metadata": {},
     "output_type": "execute_result"
    }
   ],
   "source": [
    "int(\"10\")\n",
    "int(5.7)"
   ]
  },
  {
   "cell_type": "code",
   "execution_count": 4,
   "id": "92955759-e8b8-42dc-b1f9-ff54ecce3068",
   "metadata": {},
   "outputs": [
    {
     "data": {
      "text/plain": [
       "3.4"
      ]
     },
     "execution_count": 4,
     "metadata": {},
     "output_type": "execute_result"
    }
   ],
   "source": [
    "float(\"10.5\")\n",
    "float(2)\n",
    "float(3.4)"
   ]
  },
  {
   "cell_type": "code",
   "execution_count": 6,
   "id": "98f63626-8613-44e0-be76-827cd6c86b88",
   "metadata": {},
   "outputs": [
    {
     "data": {
      "text/plain": [
       "(1+2j)"
      ]
     },
     "execution_count": 6,
     "metadata": {},
     "output_type": "execute_result"
    }
   ],
   "source": [
    "complex(1,2) # Create a complex number"
   ]
  },
  {
   "cell_type": "code",
   "execution_count": 10,
   "id": "75416484-c7ff-410a-9c18-d014326259ab",
   "metadata": {},
   "outputs": [
    {
     "data": {
      "text/plain": [
       "(1+2j)"
      ]
     },
     "execution_count": 10,
     "metadata": {},
     "output_type": "execute_result"
    }
   ],
   "source": [
    "complex(\"1+2j\") # Convert"
   ]
  },
  {
   "cell_type": "code",
   "execution_count": 12,
   "id": "b83ae258-4f88-4208-a79e-9a952b305a99",
   "metadata": {},
   "outputs": [
    {
     "data": {
      "text/plain": [
       "(11+12j)"
      ]
     },
     "execution_count": 12,
     "metadata": {},
     "output_type": "execute_result"
    }
   ],
   "source": [
    "complex(1,2) + int(10) + 10j"
   ]
  },
  {
   "cell_type": "markdown",
   "id": "1e8edcd3-796f-4433-a242-b21af1965a46",
   "metadata": {},
   "source": [
    "### bool()\n",
    "convert a value to boolean value"
   ]
  },
  {
   "cell_type": "code",
   "execution_count": 13,
   "id": "27cd14b8-2804-4f86-92f1-4234711ff8c9",
   "metadata": {},
   "outputs": [
    {
     "data": {
      "text/plain": [
       "False"
      ]
     },
     "execution_count": 13,
     "metadata": {},
     "output_type": "execute_result"
    }
   ],
   "source": [
    "bool(0)"
   ]
  },
  {
   "cell_type": "code",
   "execution_count": 14,
   "id": "ac2a65b6-7117-4d5d-b921-7d3807f606b6",
   "metadata": {},
   "outputs": [
    {
     "data": {
      "text/plain": [
       "True"
      ]
     },
     "execution_count": 14,
     "metadata": {},
     "output_type": "execute_result"
    }
   ],
   "source": [
    "bool(1)"
   ]
  },
  {
   "cell_type": "code",
   "execution_count": 15,
   "id": "f4d7b489-2afd-43a7-8304-ae6efb5ba9dc",
   "metadata": {},
   "outputs": [
    {
     "data": {
      "text/plain": [
       "False"
      ]
     },
     "execution_count": 15,
     "metadata": {},
     "output_type": "execute_result"
    }
   ],
   "source": [
    "bool(\"\")"
   ]
  },
  {
   "cell_type": "code",
   "execution_count": 16,
   "id": "8598c8fa-336c-41b5-b252-3f7843b3400f",
   "metadata": {},
   "outputs": [
    {
     "data": {
      "text/plain": [
       "True"
      ]
     },
     "execution_count": 16,
     "metadata": {},
     "output_type": "execute_result"
    }
   ],
   "source": [
    "bool(\"Python\")"
   ]
  },
  {
   "cell_type": "markdown",
   "id": "e5f15f9e-6161-4dcd-b092-119b8253a223",
   "metadata": {},
   "source": [
    "### list(); dict(); set(); frozenset()"
   ]
  },
  {
   "cell_type": "code",
   "execution_count": 18,
   "id": "6284a98a-6ba9-4cad-bb38-7da304503054",
   "metadata": {},
   "outputs": [
    {
     "data": {
      "text/plain": [
       "['a', 'b', 'c', ' ', 'd', 'e', 'f']"
      ]
     },
     "execution_count": 18,
     "metadata": {},
     "output_type": "execute_result"
    }
   ],
   "source": [
    "list(\"abc def\")"
   ]
  },
  {
   "cell_type": "code",
   "execution_count": 19,
   "id": "87505a4b-3897-4654-90eb-1b44e13ef1ef",
   "metadata": {},
   "outputs": [
    {
     "data": {
      "text/plain": [
       "[1, 2, 3, 4]"
      ]
     },
     "execution_count": 19,
     "metadata": {},
     "output_type": "execute_result"
    }
   ],
   "source": [
    "list((1,2,3,4))"
   ]
  },
  {
   "cell_type": "code",
   "execution_count": 27,
   "id": "00ea45cc-abbd-4cc1-b303-61221890ac5b",
   "metadata": {},
   "outputs": [
    {
     "data": {
      "text/plain": [
       "{'name': 'Miguel', 'age': 33, 'Language': 'Portuguese'}"
      ]
     },
     "execution_count": 27,
     "metadata": {},
     "output_type": "execute_result"
    }
   ],
   "source": [
    "dict(\n",
    "    [\n",
    "        [\"name\",\"Miguel\"],\n",
    "        [\"age\", 33],\n",
    "        [\"Language\", \"Portuguese\"]\n",
    "    ]\n",
    ")"
   ]
  },
  {
   "cell_type": "code",
   "execution_count": 30,
   "id": "f2bdd244-2f69-4bc1-acc3-e225c37e0cc0",
   "metadata": {},
   "outputs": [
    {
     "data": {
      "text/plain": [
       "{'name': 'Gui'}"
      ]
     },
     "execution_count": 30,
     "metadata": {},
     "output_type": "execute_result"
    }
   ],
   "source": [
    "dict([[\"name\",\"Gui\"]])"
   ]
  },
  {
   "cell_type": "code",
   "execution_count": 31,
   "id": "8b8c83fe-d820-4517-bf07-f40ae0dea2bf",
   "metadata": {},
   "outputs": [
    {
     "data": {
      "text/plain": [
       "{'a', 'b', 'c'}"
      ]
     },
     "execution_count": 31,
     "metadata": {},
     "output_type": "execute_result"
    }
   ],
   "source": [
    "set(\"abc\")"
   ]
  },
  {
   "cell_type": "code",
   "execution_count": 37,
   "id": "85e6d77f-eefb-45d5-a43a-ff1f459e0762",
   "metadata": {},
   "outputs": [
    {
     "data": {
      "text/plain": [
       "{'a', 'b', 'c'}"
      ]
     },
     "execution_count": 37,
     "metadata": {},
     "output_type": "execute_result"
    }
   ],
   "source": [
    "set(\"abcabcabcabc\")"
   ]
  },
  {
   "cell_type": "code",
   "execution_count": 40,
   "id": "760f999d-ae35-487e-9a8b-4a33da951051",
   "metadata": {},
   "outputs": [
    {
     "data": {
      "text/plain": [
       "{' ', '!', 'I', 'a', 'c', 'e', 'h', 'i', 'k', 'l', 'p', 's', 'y'}"
      ]
     },
     "execution_count": 40,
     "metadata": {},
     "output_type": "execute_result"
    }
   ],
   "source": [
    "set(\"I like play chess!\")"
   ]
  },
  {
   "cell_type": "code",
   "execution_count": 32,
   "id": "0eab21c1-15f7-496b-a223-af99389d6ad3",
   "metadata": {},
   "outputs": [
    {
     "data": {
      "text/plain": [
       "{1, 2, 3}"
      ]
     },
     "execution_count": 32,
     "metadata": {},
     "output_type": "execute_result"
    }
   ],
   "source": [
    "set([1,1,1,1,1,1,2,2,2,2,2,3,3,3,3,3,3])"
   ]
  },
  {
   "cell_type": "code",
   "execution_count": 33,
   "id": "33bab936-eba0-4a09-b9ac-bb609dff2149",
   "metadata": {},
   "outputs": [
    {
     "data": {
      "text/plain": [
       "('a', 'b', 'c')"
      ]
     },
     "execution_count": 33,
     "metadata": {},
     "output_type": "execute_result"
    }
   ],
   "source": [
    "tuple(\"abc\")"
   ]
  },
  {
   "cell_type": "code",
   "execution_count": 34,
   "id": "2b56b158-1eaa-4696-b21c-72184ed479e5",
   "metadata": {},
   "outputs": [
    {
     "data": {
      "text/plain": [
       "(1, 2, 3)"
      ]
     },
     "execution_count": 34,
     "metadata": {},
     "output_type": "execute_result"
    }
   ],
   "source": [
    "tuple([1,2,3])"
   ]
  },
  {
   "cell_type": "code",
   "execution_count": 36,
   "id": "eb66909e-20d4-4fa2-9b3f-91035a20ac81",
   "metadata": {},
   "outputs": [
    {
     "data": {
      "text/plain": [
       "frozenset({'a', 'b', 'c'})"
      ]
     },
     "execution_count": 36,
     "metadata": {},
     "output_type": "execute_result"
    }
   ],
   "source": [
    "frozenset(\"abcabc\")"
   ]
  },
  {
   "cell_type": "markdown",
   "id": "7c1c04bc-7d15-4d6c-8a5a-6024feec5571",
   "metadata": {},
   "source": [
    "### chr() character   vs   ord()  ordinal\n",
    "\n",
    "one is the reverse of other"
   ]
  },
  {
   "cell_type": "code",
   "execution_count": 54,
   "id": "90583260-3ae6-4356-b373-3a10f5be6f4f",
   "metadata": {},
   "outputs": [
    {
     "name": "stdout",
     "output_type": "stream",
     "text": [
      "a 97\n"
     ]
    }
   ],
   "source": [
    "print(\n",
    "    chr(97),ord(\"a\")\n",
    ")"
   ]
  },
  {
   "cell_type": "code",
   "execution_count": 56,
   "id": "011be304-738b-4238-98d7-35ba03e65616",
   "metadata": {},
   "outputs": [
    {
     "name": "stdout",
     "output_type": "stream",
     "text": [
      "X 88\n"
     ]
    }
   ],
   "source": [
    "print(\n",
    "    chr(88),\n",
    "    ord(\"X\")\n",
    ")"
   ]
  },
  {
   "cell_type": "markdown",
   "id": "366c23e3-67ac-446e-acc7-ef6f9581e059",
   "metadata": {},
   "source": [
    "### bin(); oct(); hex()"
   ]
  },
  {
   "cell_type": "code",
   "execution_count": 57,
   "id": "6cf082d2-689a-477b-b466-f6d3932beb64",
   "metadata": {},
   "outputs": [
    {
     "data": {
      "text/plain": [
       "'0b1010'"
      ]
     },
     "execution_count": 57,
     "metadata": {},
     "output_type": "execute_result"
    },
    {
     "name": "stdout",
     "output_type": "stream",
     "text": [
      "The history saving thread hit an unexpected error (OperationalError('attempt to write a readonly database')).History will not be written to the database.\n"
     ]
    }
   ],
   "source": [
    "bin(10) # String to Binario"
   ]
  },
  {
   "cell_type": "code",
   "execution_count": 58,
   "id": "e548179a-7d99-4484-80fe-f00b0caa5e9e",
   "metadata": {},
   "outputs": [
    {
     "data": {
      "text/plain": [
       "'0o12'"
      ]
     },
     "execution_count": 58,
     "metadata": {},
     "output_type": "execute_result"
    }
   ],
   "source": [
    "oct(10) # string to Octal"
   ]
  },
  {
   "cell_type": "code",
   "execution_count": 59,
   "id": "9f9dd98c-8c47-4620-ba11-5b96354c6891",
   "metadata": {},
   "outputs": [
    {
     "data": {
      "text/plain": [
       "'0xa'"
      ]
     },
     "execution_count": 59,
     "metadata": {},
     "output_type": "execute_result"
    }
   ],
   "source": [
    "hex(10) # string to hexadecimal"
   ]
  },
  {
   "cell_type": "markdown",
   "id": "5dc43d29-3153-4e95-85b2-83a584276b2c",
   "metadata": {},
   "source": [
    "### bytes(); bytearray(); memoryview()"
   ]
  },
  {
   "cell_type": "code",
   "execution_count": 64,
   "id": "304a988c-f57a-4d5a-8579-bb2ca7a8fe8d",
   "metadata": {},
   "outputs": [
    {
     "data": {
      "text/plain": [
       "b'hello'"
      ]
     },
     "execution_count": 64,
     "metadata": {},
     "output_type": "execute_result"
    }
   ],
   "source": [
    "bytes(\"hello\", \"utf-8\")"
   ]
  },
  {
   "cell_type": "code",
   "execution_count": 65,
   "id": "a2d645ab-3509-41b9-b8b3-c617c577c844",
   "metadata": {},
   "outputs": [
    {
     "data": {
      "text/plain": [
       "b'\\x01\\x02\\x03\\x04'"
      ]
     },
     "execution_count": 65,
     "metadata": {},
     "output_type": "execute_result"
    }
   ],
   "source": [
    "bytes([1,2,3,4])"
   ]
  },
  {
   "cell_type": "code",
   "execution_count": 66,
   "id": "10109736-c0cc-4d90-b8fe-8bbae9d1e4f6",
   "metadata": {},
   "outputs": [
    {
     "data": {
      "text/plain": [
       "bytearray(b'hello')"
      ]
     },
     "execution_count": 66,
     "metadata": {},
     "output_type": "execute_result"
    }
   ],
   "source": [
    "bytearray(\"hello\",\"utf-8\")"
   ]
  },
  {
   "cell_type": "code",
   "execution_count": 67,
   "id": "551a6089-9bbd-4b20-a71d-5a0f1619d87d",
   "metadata": {},
   "outputs": [
    {
     "data": {
      "text/plain": [
       "bytearray(b'\\x01\\x02\\x03\\x04')"
      ]
     },
     "execution_count": 67,
     "metadata": {},
     "output_type": "execute_result"
    }
   ],
   "source": [
    "bytearray([1,2,3,4])"
   ]
  },
  {
   "cell_type": "code",
   "execution_count": 68,
   "id": "98e22406-cdac-4265-bad3-4a5663821618",
   "metadata": {},
   "outputs": [
    {
     "data": {
      "text/plain": [
       "<memory at 0x7c37e0d09e40>"
      ]
     },
     "execution_count": 68,
     "metadata": {},
     "output_type": "execute_result"
    }
   ],
   "source": [
    "memoryview(b\"hello\")"
   ]
  },
  {
   "cell_type": "markdown",
   "id": "9d31eec2-66b0-4f3f-ab04-6a2861c68255",
   "metadata": {},
   "source": [
    "## 2. Sequence and Collection Manipulation Functions\n",
    "- **Purpose**: Perform operations on sequences (lists, tuples, strings) and collections (sets, dictionaries)\n",
    "- **Functions**:\n",
    "    - len()\n",
    "    - min(); max();\n",
    "    - sum()\n",
    "    - sorted()\n",
    "    - reversed()\n",
    "    - enumerate()\n",
    "    - zip()\n",
    "    - map(); filter(); reduce() (P.S. reduce() is in the **functools** module)\n",
    "    - all(); any()"
   ]
  },
  {
   "cell_type": "markdown",
   "id": "1cee6c69-482a-44cd-8c21-d66a2c1111ca",
   "metadata": {},
   "source": [
    "### len()\n",
    "\n",
    "- count array size\n",
    "- count string size\n",
    "- count dict size"
   ]
  },
  {
   "cell_type": "code",
   "execution_count": 69,
   "id": "4226b871-8022-4fe7-b25a-df4bb9d4d8a7",
   "metadata": {},
   "outputs": [
    {
     "data": {
      "text/plain": [
       "4"
      ]
     },
     "execution_count": 69,
     "metadata": {},
     "output_type": "execute_result"
    }
   ],
   "source": [
    "len([1,2,3,4])"
   ]
  },
  {
   "cell_type": "code",
   "execution_count": 70,
   "id": "a8150a23-3a86-4be9-8c04-bbe14b0f42dc",
   "metadata": {},
   "outputs": [
    {
     "data": {
      "text/plain": [
       "6"
      ]
     },
     "execution_count": 70,
     "metadata": {},
     "output_type": "execute_result"
    }
   ],
   "source": [
    "len(\"PYTHON\")"
   ]
  },
  {
   "cell_type": "code",
   "execution_count": 71,
   "id": "498e58de-9b1a-44d7-bfdf-7f056bf38c5e",
   "metadata": {},
   "outputs": [
    {
     "data": {
      "text/plain": [
       "2"
      ]
     },
     "execution_count": 71,
     "metadata": {},
     "output_type": "execute_result"
    }
   ],
   "source": [
    "len({\"a\":1,\"b\":2})"
   ]
  },
  {
   "cell_type": "markdown",
   "id": "2d7bc308-18ee-468f-bbea-f098a3a4eb16",
   "metadata": {},
   "source": [
    "### min(); max()"
   ]
  },
  {
   "cell_type": "code",
   "execution_count": 72,
   "id": "b19b3fd0-04a0-44a7-b4f2-8a7750301f8d",
   "metadata": {},
   "outputs": [
    {
     "data": {
      "text/plain": [
       "1"
      ]
     },
     "execution_count": 72,
     "metadata": {},
     "output_type": "execute_result"
    }
   ],
   "source": [
    "min([1,2,3,4])"
   ]
  },
  {
   "cell_type": "code",
   "execution_count": 78,
   "id": "73625a97-2020-4169-ab3f-1546abeb3480",
   "metadata": {},
   "outputs": [
    {
     "data": {
      "text/plain": [
       "'P'"
      ]
     },
     "execution_count": 78,
     "metadata": {},
     "output_type": "execute_result"
    }
   ],
   "source": [
    "min(\"Python\")\n",
    "# return \"P\" according to the ordem ASCII)"
   ]
  },
  {
   "cell_type": "code",
   "execution_count": 79,
   "id": "b7aa377d-c1d2-479a-9995-ef8a4221fdac",
   "metadata": {},
   "outputs": [
    {
     "data": {
      "text/plain": [
       "'a'"
      ]
     },
     "execution_count": 79,
     "metadata": {},
     "output_type": "execute_result"
    }
   ],
   "source": [
    "min(\"abc\")\n",
    "# return \"P\" according to the ordem ASCII)"
   ]
  },
  {
   "cell_type": "code",
   "execution_count": 80,
   "id": "d968c478-e0ca-4f32-b042-8e754906ef6c",
   "metadata": {},
   "outputs": [
    {
     "data": {
      "text/plain": [
       "4"
      ]
     },
     "execution_count": 80,
     "metadata": {},
     "output_type": "execute_result"
    }
   ],
   "source": [
    "max([1,2,3,4])"
   ]
  },
  {
   "cell_type": "code",
   "execution_count": 81,
   "id": "8c6c8387-e027-4474-a52c-b2f5750e8eee",
   "metadata": {},
   "outputs": [
    {
     "data": {
      "text/plain": [
       "'y'"
      ]
     },
     "execution_count": 81,
     "metadata": {},
     "output_type": "execute_result"
    }
   ],
   "source": [
    "max(\"Python\")"
   ]
  },
  {
   "cell_type": "code",
   "execution_count": 82,
   "id": "d8114abb-967d-4e39-9ae8-77dd4f8e8b7e",
   "metadata": {},
   "outputs": [
    {
     "data": {
      "text/plain": [
       "'c'"
      ]
     },
     "execution_count": 82,
     "metadata": {},
     "output_type": "execute_result"
    }
   ],
   "source": [
    "max(\"abc\")"
   ]
  },
  {
   "cell_type": "markdown",
   "id": "06e912d4-e227-4be1-bae2-bd1f8dc8a524",
   "metadata": {},
   "source": [
    "### Interesting example\n",
    "\n",
    "You can use min or max as a thresholder, for example, images are made for matrix in a range of 0 - 255... you can increse the value without the rest of pass 255... so in this case you don't need if else condition, se the example below"
   ]
  },
  {
   "cell_type": "code",
   "execution_count": 86,
   "id": "6b836209-7dab-4d0c-b563-2587d2859589",
   "metadata": {},
   "outputs": [
    {
     "name": "stdout",
     "output_type": "stream",
     "text": [
      "210\n",
      "210\n"
     ]
    }
   ],
   "source": [
    "image = 200\n",
    "\n",
    "increase_brightness = 10\n",
    "\n",
    "\n",
    "new_image = min( [200+increase_brightness, 255] ) # This way you guarantee the value will be less 255 always\n",
    "print(new_image)\n",
    "\n",
    "# Using condition\n",
    "new_image = image + increase_brightness\n",
    "if new_image >255:\n",
    "    new_image = 255\n",
    "print(new_image)\n"
   ]
  },
  {
   "cell_type": "markdown",
   "id": "8cf708a9-d3ad-4e30-b98f-1465284389fc",
   "metadata": {},
   "source": [
    "Same thing works for max, if you want to use it as a threshold to limit small values"
   ]
  },
  {
   "cell_type": "code",
   "execution_count": 89,
   "id": "03d46a28-fe06-4128-b4eb-10b8b7381956",
   "metadata": {},
   "outputs": [
    {
     "data": {
      "text/plain": [
       "10"
      ]
     },
     "execution_count": 89,
     "metadata": {},
     "output_type": "execute_result"
    }
   ],
   "source": [
    "max(10-10-10, 10) # minimum that you can receive is 10"
   ]
  },
  {
   "cell_type": "markdown",
   "id": "83d677d2-cf19-4980-829c-b3d3047433d9",
   "metadata": {},
   "source": [
    "### sum()"
   ]
  },
  {
   "cell_type": "code",
   "execution_count": 90,
   "id": "af33fd8e-c62f-4005-a5d0-ed2fd8926f72",
   "metadata": {},
   "outputs": [
    {
     "data": {
      "text/plain": [
       "15"
      ]
     },
     "execution_count": 90,
     "metadata": {},
     "output_type": "execute_result"
    }
   ],
   "source": [
    "sum([1,2,3,4,5])"
   ]
  },
  {
   "cell_type": "markdown",
   "id": "eabf6b83-c1c8-4508-b354-173cd95469fd",
   "metadata": {},
   "source": [
    "### sorted(); reversed()   (COMPLETELY DIFFERENT)\n",
    "\n",
    "Sorted -> return a list ordered or reversed (reverse=True)\n",
    "\n",
    "\n",
    "ex: v = [1,2,5,5,4]  sorted(v) = [1,2,4,5,5]... or sorted(v , reverse=True) = [5,5,4,2,1]...\n",
    "\n",
    "reversed -> reverse a list (<-) as iterable\n",
    "\n",
    "ex: v = [1,2,5,5,4]  reversed(v) = [4,5,5,2,1]\n"
   ]
  },
  {
   "cell_type": "code",
   "execution_count": 91,
   "id": "8ddfc5f7-7115-4724-bc99-cf6f06550abc",
   "metadata": {},
   "outputs": [
    {
     "data": {
      "text/plain": [
       "[1, 2, 3, 4]"
      ]
     },
     "execution_count": 91,
     "metadata": {},
     "output_type": "execute_result"
    }
   ],
   "source": [
    "sorted([3,1,4,2])"
   ]
  },
  {
   "cell_type": "code",
   "execution_count": 92,
   "id": "c8d1718f-6f8e-4e57-a35b-5177582ed40f",
   "metadata": {},
   "outputs": [
    {
     "data": {
      "text/plain": [
       "[0, 10, 100, 1000]"
      ]
     },
     "execution_count": 92,
     "metadata": {},
     "output_type": "execute_result"
    }
   ],
   "source": [
    "sorted([1000,100,10,0])"
   ]
  },
  {
   "cell_type": "code",
   "execution_count": 94,
   "id": "cf3ea637-840f-40a5-825a-ecf6adda77d9",
   "metadata": {},
   "outputs": [
    {
     "data": {
      "text/plain": [
       "[1000, 100, 10, 0]"
      ]
     },
     "execution_count": 94,
     "metadata": {},
     "output_type": "execute_result"
    }
   ],
   "source": [
    "sorted([1000,100,10,0], reverse= True)"
   ]
  },
  {
   "cell_type": "code",
   "execution_count": 97,
   "id": "b9636690-ffce-4ef9-8180-41afa547c1df",
   "metadata": {},
   "outputs": [
    {
     "data": {
      "text/plain": [
       "['A', 'B', 'C', 'D', 'E', 'F']"
      ]
     },
     "execution_count": 97,
     "metadata": {},
     "output_type": "execute_result"
    }
   ],
   "source": [
    "sorted(\"BCAEDF\")"
   ]
  },
  {
   "cell_type": "code",
   "execution_count": 99,
   "id": "6a6729fb-744c-4cc0-9a0c-7e69e7da5498",
   "metadata": {},
   "outputs": [
    {
     "data": {
      "text/plain": [
       "['F', 'E', 'D', 'C', 'B', 'A']"
      ]
     },
     "execution_count": 99,
     "metadata": {},
     "output_type": "execute_result"
    }
   ],
   "source": [
    "sorted(\"BCAEDF\", reverse=True)"
   ]
  },
  {
   "cell_type": "code",
   "execution_count": 100,
   "id": "c21cb7bd-7f3b-430b-a9b9-5cdcade42fff",
   "metadata": {},
   "outputs": [
    {
     "data": {
      "text/plain": [
       "['F', 'D', 'E', 'A', 'C', 'B']"
      ]
     },
     "execution_count": 100,
     "metadata": {},
     "output_type": "execute_result"
    }
   ],
   "source": [
    "list( reversed(\"BCAEDF\") )"
   ]
  },
  {
   "cell_type": "code",
   "execution_count": 101,
   "id": "5156c15e-5441-43d4-bee9-ad62cc1176e3",
   "metadata": {},
   "outputs": [
    {
     "data": {
      "text/plain": [
       "'nohtyP'"
      ]
     },
     "execution_count": 101,
     "metadata": {},
     "output_type": "execute_result"
    }
   ],
   "source": [
    "\"\".join(reversed(\"Python\"))"
   ]
  },
  {
   "cell_type": "code",
   "execution_count": 105,
   "id": "9d00e9db-764c-407b-9379-421ca273e7cd",
   "metadata": {},
   "outputs": [
    {
     "data": {
      "text/plain": [
       "'ytonhP'"
      ]
     },
     "execution_count": 105,
     "metadata": {},
     "output_type": "execute_result"
    }
   ],
   "source": [
    "\"\".join(sorted(\"Python\", reverse = True))"
   ]
  },
  {
   "cell_type": "markdown",
   "id": "6ddcdbb5-7f31-4b2d-9f7d-5d88eac6f12a",
   "metadata": {},
   "source": [
    "### enumerate()"
   ]
  },
  {
   "cell_type": "code",
   "execution_count": 106,
   "id": "464de438-cc8e-4954-8943-b6d5b573b0c5",
   "metadata": {},
   "outputs": [
    {
     "name": "stdout",
     "output_type": "stream",
     "text": [
      "0 10\n",
      "1 100\n",
      "2 200\n"
     ]
    }
   ],
   "source": [
    "for n, x in enumerate([10,100,200]):\n",
    "    print(n, x)"
   ]
  },
  {
   "cell_type": "code",
   "execution_count": 108,
   "id": "1be9af36-5fee-484b-8ee7-a157571e9b8d",
   "metadata": {},
   "outputs": [
    {
     "data": {
      "text/plain": [
       "[(0, 100), (1, 200), (2, 300)]"
      ]
     },
     "execution_count": 108,
     "metadata": {},
     "output_type": "execute_result"
    }
   ],
   "source": [
    "list( enumerate([100,200,300]))"
   ]
  },
  {
   "cell_type": "markdown",
   "id": "0eb02d72-13be-4755-9b80-c0ec5194aa84",
   "metadata": {},
   "source": [
    "### zip()\n",
    "Combines two or more iterables, returning an iterator of tuples where the i-th element contains the i-th item from each of the iterables."
   ]
  },
  {
   "cell_type": "code",
   "execution_count": 109,
   "id": "e2298182-b064-489a-9c68-59d59c89e39e",
   "metadata": {},
   "outputs": [
    {
     "name": "stdout",
     "output_type": "stream",
     "text": [
      "a 1\n",
      "a 2\n",
      "a 3\n",
      "a 4\n",
      "b 1\n",
      "b 2\n",
      "b 3\n",
      "b 4\n",
      "c 1\n",
      "c 2\n",
      "c 3\n",
      "c 4\n",
      "d 1\n",
      "d 2\n",
      "d 3\n",
      "d 4\n"
     ]
    }
   ],
   "source": [
    "x = [\"a\",\"b\",\"c\",\"d\"]\n",
    "y = [1,2,3,4]\n",
    "\n",
    "for i in x:\n",
    "    for j in y:\n",
    "        print(i,j)"
   ]
  },
  {
   "cell_type": "code",
   "execution_count": 110,
   "id": "a0be8b79-494d-4c0e-871f-6d4c6527a2dc",
   "metadata": {},
   "outputs": [
    {
     "name": "stdout",
     "output_type": "stream",
     "text": [
      "a 1\n",
      "b 2\n",
      "c 3\n",
      "d 4\n"
     ]
    }
   ],
   "source": [
    "for i,j in zip(x,y):\n",
    "    print(i,j)"
   ]
  },
  {
   "cell_type": "markdown",
   "id": "b12b09d0-2a08-4431-bd4f-5f059eb504f2",
   "metadata": {},
   "source": [
    "### map(); filter(); reduce()\n",
    "\n",
    "- **map()**: Apply a function in each element in a iterable\n",
    "- **filter()**: filter elements in a list according to the condition/function\n",
    "- **reduce()**: reduce all vector to an one element"
   ]
  },
  {
   "cell_type": "code",
   "execution_count": 113,
   "id": "0a1fc15b-40bd-44ad-8df7-b09664e60f7e",
   "metadata": {},
   "outputs": [
    {
     "name": "stdout",
     "output_type": "stream",
     "text": [
      "['1', '2', '3', '4', '5', '6']\n",
      "[1, 2, 3, 4, 5, 6]\n"
     ]
    }
   ],
   "source": [
    "v = list(\"123456\")\n",
    "print(v)\n",
    "\n",
    "v_int = list(map(int, v))\n",
    "print(v_int)"
   ]
  },
  {
   "cell_type": "code",
   "execution_count": 119,
   "id": "d09ccd3e-611a-4636-aba2-12faee221d76",
   "metadata": {},
   "outputs": [
    {
     "data": {
      "text/plain": [
       "[1, 8, 27, 64, 125, 216]"
      ]
     },
     "execution_count": 119,
     "metadata": {},
     "output_type": "execute_result"
    }
   ],
   "source": [
    "def cube(x:int)->int:\n",
    "    return x**3\n",
    "\n",
    "new_v = list(map(cube, v_int))\n",
    "new_v"
   ]
  },
  {
   "cell_type": "code",
   "execution_count": 120,
   "id": "9b5762aa-465e-4b53-8aca-bce9a05b2c21",
   "metadata": {},
   "outputs": [
    {
     "data": {
      "text/plain": [
       "['A', 'B', 'C', 'D']"
      ]
     },
     "execution_count": 120,
     "metadata": {},
     "output_type": "execute_result"
    }
   ],
   "source": [
    "string_list = list(\"abcd\")\n",
    "\n",
    "list(map(str.upper, string_list))"
   ]
  },
  {
   "cell_type": "code",
   "execution_count": 122,
   "id": "377c1039-f600-471a-8f2b-4a045fcfbbb0",
   "metadata": {
    "scrolled": true
   },
   "outputs": [
    {
     "data": {
      "text/plain": [
       "[2, 4, 6]"
      ]
     },
     "execution_count": 122,
     "metadata": {},
     "output_type": "execute_result"
    }
   ],
   "source": [
    "def check_even(x:int) -> int|None:\n",
    "    if x%2 == 0:\n",
    "        return x\n",
    "\n",
    "list(filter(check_even, v_int))"
   ]
  },
  {
   "cell_type": "code",
   "execution_count": 135,
   "id": "a2f2e8b0-063c-4ab0-8e91-045b31152eec",
   "metadata": {},
   "outputs": [
    {
     "name": "stdout",
     "output_type": "stream",
     "text": [
      "[1, 2, 3, 4, 5, 6]\n"
     ]
    },
    {
     "data": {
      "text/plain": [
       "21"
      ]
     },
     "execution_count": 135,
     "metadata": {},
     "output_type": "execute_result"
    }
   ],
   "source": [
    "from functools import reduce\n",
    "print(v_int)\n",
    "reduce(lambda x,y: x+y, v_int)"
   ]
  },
  {
   "cell_type": "markdown",
   "id": "e84337dc-8ec6-4bbb-b7d0-7ca377676209",
   "metadata": {},
   "source": [
    "## 3. Mathematical and Numeric Functions\n",
    "- **Purpose**: Execute basic mathematical operations\n",
    "- **Functions**:\n",
    "    - abs()\n",
    "    - around()\n",
    "    - divmod()\n",
    "    - pow()\n",
    "    - sum()\n",
    "    - max(); min()"
   ]
  },
  {
   "cell_type": "markdown",
   "id": "3da3a18d-8033-41d8-8e94-90d0451f65ea",
   "metadata": {},
   "source": [
    "## 4. Input/Ouput Functions\n",
    "- **Purpose**: Interact with the user or manipulates files.\n",
    "- **Functions**:\n",
    "    - print()\n",
    "    - input()\n",
    "    - open() "
   ]
  },
  {
   "cell_type": "markdown",
   "id": "94dc2b26-5711-4dc5-b748-0a8a0f93c901",
   "metadata": {},
   "source": [
    "# 5. Object Manipulation Functions\n",
    "- **Purpose**: Work with objects and attributes\n",
    "- **Functions**:\n",
    "    - type(); isinstance()\n",
    "    - id()\n",
    "    - dir()\n",
    "    - vars()\n",
    "    - hasattr(); getattr(); setattr(); delattr()"
   ]
  },
  {
   "cell_type": "markdown",
   "id": "a11fed51-a773-4094-bbcd-b0821af804ed",
   "metadata": {},
   "source": [
    "## 6. String Manipulation Functions\n",
    "- **Purpose**: Work with strings and object representations\n",
    "- **Functions**:\n",
    "    - str(); repr()\n",
    "    - format()\n",
    "    - ascii()\n",
    "    - chr(); ord()"
   ]
  },
  {
   "cell_type": "markdown",
   "id": "3f2931f9-7d68-441d-9dea-4e71d966099f",
   "metadata": {},
   "source": [
    "## 7. Iterator and Generator Manipulation Functions\n",
    "- **Purpose**: Create or manipulate iterators and generators\n",
    "- **Functions**:\n",
    "    - iter()\n",
    "    - next()\n",
    "    - range()\n",
    "    - reversed()"
   ]
  },
  {
   "cell_type": "markdown",
   "id": "e01ee983-b3c5-4bff-8b1e-1af13e1892cc",
   "metadata": {},
   "source": [
    "## 8. Memory and System Manipulation Functions\n",
    "- **Purpose**: Work with memory and low-level system aspects\n",
    "- **Functions**:\n",
    "    - memoryview()\n",
    "    - hash()\n",
    "    - object()\n",
    "    - del(); delattr()"
   ]
  },
  {
   "cell_type": "markdown",
   "id": "4036235b-961b-4eeb-8378-186afbdfbb49",
   "metadata": {},
   "source": [
    "## 9. Miscellaneous Functions (Funções Diversas)\n",
    "- **Purpose**: Other functions\n",
    "- **Functions**:\n",
    "    - help(); globals(); locals()\n",
    "    - eval(); exec(); compile()\n",
    "    - super()\n",
    "    - staticmethod(); classmethod()\n",
    "    - property()\n",
    "    - input()"
   ]
  },
  {
   "cell_type": "markdown",
   "id": "3157b59b-b916-42ea-82eb-aa60323796ba",
   "metadata": {},
   "source": [
    "## 10. Exception Handling Functions\n",
    "- **Purpose**: Handle exceptions and errors\n",
    "- **Functions**:\n",
    "    - issubclass()\n",
    "    - BaseException(); Exception()"
   ]
  }
 ],
 "metadata": {
  "kernelspec": {
   "display_name": "Python 3 (ipykernel)",
   "language": "python",
   "name": "python3"
  },
  "language_info": {
   "codemirror_mode": {
    "name": "ipython",
    "version": 3
   },
   "file_extension": ".py",
   "mimetype": "text/x-python",
   "name": "python",
   "nbconvert_exporter": "python",
   "pygments_lexer": "ipython3",
   "version": "3.11.9"
  }
 },
 "nbformat": 4,
 "nbformat_minor": 5
}
