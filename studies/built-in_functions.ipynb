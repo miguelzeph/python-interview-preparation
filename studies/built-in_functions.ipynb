{
 "cells": [
  {
   "cell_type": "markdown",
   "id": "a56405ac-6b6d-44af-b8b4-2ff3f6c830d4",
   "metadata": {},
   "source": [
    "# Python Built-in Functions (Funções Embutidas)\n",
    "On python 3.11 there are about 68 python built-in functions where we can classify in around 10 groups."
   ]
  },
  {
   "cell_type": "markdown",
   "id": "771b3843-f441-457e-94c7-041d299a31d5",
   "metadata": {},
   "source": [
    "## 1. Type Conversion Functions\n",
    "\n",
    "- **Purpose**: Convert values from one type to another.\n",
    "- **Functions**:\n",
    "    - int(); float(); complex()\n",
    "    - str(); repr()\n",
    "    - bool()\n",
    "    - list(); dict(); set(); tuple(); frozenset()\n",
    "    - chr(); ord()\n",
    "    - bin(); oct(); hex()\n",
    "    - bytes(); bytearray(); memoryview()"
   ]
  },
  {
   "cell_type": "markdown",
   "id": "091faf65-78ba-4991-a536-60c2763a5893",
   "metadata": {},
   "source": [
    "### int(); float(); complex()"
   ]
  },
  {
   "cell_type": "code",
   "execution_count": 5,
   "id": "de17c98d-0c1e-4dfc-a96d-301027b15263",
   "metadata": {},
   "outputs": [
    {
     "data": {
      "text/plain": [
       "5"
      ]
     },
     "execution_count": 5,
     "metadata": {},
     "output_type": "execute_result"
    }
   ],
   "source": [
    "int(\"10\")\n",
    "int(5.7)"
   ]
  },
  {
   "cell_type": "code",
   "execution_count": 4,
   "id": "92955759-e8b8-42dc-b1f9-ff54ecce3068",
   "metadata": {},
   "outputs": [
    {
     "data": {
      "text/plain": [
       "3.4"
      ]
     },
     "execution_count": 4,
     "metadata": {},
     "output_type": "execute_result"
    }
   ],
   "source": [
    "float(\"10.5\")\n",
    "float(2)\n",
    "float(3.4)"
   ]
  },
  {
   "cell_type": "code",
   "execution_count": 6,
   "id": "98f63626-8613-44e0-be76-827cd6c86b88",
   "metadata": {},
   "outputs": [
    {
     "data": {
      "text/plain": [
       "(1+2j)"
      ]
     },
     "execution_count": 6,
     "metadata": {},
     "output_type": "execute_result"
    }
   ],
   "source": [
    "complex(1,2) # Create a complex number"
   ]
  },
  {
   "cell_type": "code",
   "execution_count": 10,
   "id": "75416484-c7ff-410a-9c18-d014326259ab",
   "metadata": {},
   "outputs": [
    {
     "data": {
      "text/plain": [
       "(1+2j)"
      ]
     },
     "execution_count": 10,
     "metadata": {},
     "output_type": "execute_result"
    }
   ],
   "source": [
    "complex(\"1+2j\") # Convert"
   ]
  },
  {
   "cell_type": "code",
   "execution_count": 12,
   "id": "b83ae258-4f88-4208-a79e-9a952b305a99",
   "metadata": {},
   "outputs": [
    {
     "data": {
      "text/plain": [
       "(11+12j)"
      ]
     },
     "execution_count": 12,
     "metadata": {},
     "output_type": "execute_result"
    }
   ],
   "source": [
    "complex(1,2) + int(10) + 10j"
   ]
  },
  {
   "cell_type": "markdown",
   "id": "1e8edcd3-796f-4433-a242-b21af1965a46",
   "metadata": {},
   "source": [
    "### bool()\n",
    "convert a value to boolean value"
   ]
  },
  {
   "cell_type": "code",
   "execution_count": 13,
   "id": "27cd14b8-2804-4f86-92f1-4234711ff8c9",
   "metadata": {},
   "outputs": [
    {
     "data": {
      "text/plain": [
       "False"
      ]
     },
     "execution_count": 13,
     "metadata": {},
     "output_type": "execute_result"
    }
   ],
   "source": [
    "bool(0)"
   ]
  },
  {
   "cell_type": "code",
   "execution_count": 14,
   "id": "ac2a65b6-7117-4d5d-b921-7d3807f606b6",
   "metadata": {},
   "outputs": [
    {
     "data": {
      "text/plain": [
       "True"
      ]
     },
     "execution_count": 14,
     "metadata": {},
     "output_type": "execute_result"
    }
   ],
   "source": [
    "bool(1)"
   ]
  },
  {
   "cell_type": "code",
   "execution_count": 15,
   "id": "f4d7b489-2afd-43a7-8304-ae6efb5ba9dc",
   "metadata": {},
   "outputs": [
    {
     "data": {
      "text/plain": [
       "False"
      ]
     },
     "execution_count": 15,
     "metadata": {},
     "output_type": "execute_result"
    }
   ],
   "source": [
    "bool(\"\")"
   ]
  },
  {
   "cell_type": "code",
   "execution_count": 16,
   "id": "8598c8fa-336c-41b5-b252-3f7843b3400f",
   "metadata": {},
   "outputs": [
    {
     "data": {
      "text/plain": [
       "True"
      ]
     },
     "execution_count": 16,
     "metadata": {},
     "output_type": "execute_result"
    }
   ],
   "source": [
    "bool(\"Python\")"
   ]
  },
  {
   "cell_type": "markdown",
   "id": "e5f15f9e-6161-4dcd-b092-119b8253a223",
   "metadata": {},
   "source": [
    "### list(); dict(); set(); frozenset()"
   ]
  },
  {
   "cell_type": "code",
   "execution_count": 18,
   "id": "6284a98a-6ba9-4cad-bb38-7da304503054",
   "metadata": {},
   "outputs": [
    {
     "data": {
      "text/plain": [
       "['a', 'b', 'c', ' ', 'd', 'e', 'f']"
      ]
     },
     "execution_count": 18,
     "metadata": {},
     "output_type": "execute_result"
    }
   ],
   "source": [
    "list(\"abc def\")"
   ]
  },
  {
   "cell_type": "code",
   "execution_count": 19,
   "id": "87505a4b-3897-4654-90eb-1b44e13ef1ef",
   "metadata": {},
   "outputs": [
    {
     "data": {
      "text/plain": [
       "[1, 2, 3, 4]"
      ]
     },
     "execution_count": 19,
     "metadata": {},
     "output_type": "execute_result"
    }
   ],
   "source": [
    "list((1,2,3,4))"
   ]
  },
  {
   "cell_type": "code",
   "execution_count": 27,
   "id": "00ea45cc-abbd-4cc1-b303-61221890ac5b",
   "metadata": {},
   "outputs": [
    {
     "data": {
      "text/plain": [
       "{'name': 'Miguel', 'age': 33, 'Language': 'Portuguese'}"
      ]
     },
     "execution_count": 27,
     "metadata": {},
     "output_type": "execute_result"
    }
   ],
   "source": [
    "dict(\n",
    "    [\n",
    "        [\"name\",\"Miguel\"],\n",
    "        [\"age\", 33],\n",
    "        [\"Language\", \"Portuguese\"]\n",
    "    ]\n",
    ")"
   ]
  },
  {
   "cell_type": "code",
   "execution_count": 30,
   "id": "f2bdd244-2f69-4bc1-acc3-e225c37e0cc0",
   "metadata": {},
   "outputs": [
    {
     "data": {
      "text/plain": [
       "{'name': 'Gui'}"
      ]
     },
     "execution_count": 30,
     "metadata": {},
     "output_type": "execute_result"
    }
   ],
   "source": [
    "dict([[\"name\",\"Gui\"]])"
   ]
  },
  {
   "cell_type": "code",
   "execution_count": 31,
   "id": "8b8c83fe-d820-4517-bf07-f40ae0dea2bf",
   "metadata": {},
   "outputs": [
    {
     "data": {
      "text/plain": [
       "{'a', 'b', 'c'}"
      ]
     },
     "execution_count": 31,
     "metadata": {},
     "output_type": "execute_result"
    }
   ],
   "source": [
    "set(\"abc\")"
   ]
  },
  {
   "cell_type": "code",
   "execution_count": 37,
   "id": "85e6d77f-eefb-45d5-a43a-ff1f459e0762",
   "metadata": {},
   "outputs": [
    {
     "data": {
      "text/plain": [
       "{'a', 'b', 'c'}"
      ]
     },
     "execution_count": 37,
     "metadata": {},
     "output_type": "execute_result"
    }
   ],
   "source": [
    "set(\"abcabcabcabc\")"
   ]
  },
  {
   "cell_type": "code",
   "execution_count": 40,
   "id": "760f999d-ae35-487e-9a8b-4a33da951051",
   "metadata": {},
   "outputs": [
    {
     "data": {
      "text/plain": [
       "{' ', '!', 'I', 'a', 'c', 'e', 'h', 'i', 'k', 'l', 'p', 's', 'y'}"
      ]
     },
     "execution_count": 40,
     "metadata": {},
     "output_type": "execute_result"
    }
   ],
   "source": [
    "set(\"I like play chess!\")"
   ]
  },
  {
   "cell_type": "code",
   "execution_count": 1,
   "id": "0eab21c1-15f7-496b-a223-af99389d6ad3",
   "metadata": {},
   "outputs": [
    {
     "data": {
      "text/plain": [
       "{1, 2, 3}"
      ]
     },
     "execution_count": 1,
     "metadata": {},
     "output_type": "execute_result"
    }
   ],
   "source": [
    "set([1,1,1,1,2,2,3,3,3,3])"
   ]
  },
  {
   "cell_type": "code",
   "execution_count": 33,
   "id": "33bab936-eba0-4a09-b9ac-bb609dff2149",
   "metadata": {},
   "outputs": [
    {
     "data": {
      "text/plain": [
       "('a', 'b', 'c')"
      ]
     },
     "execution_count": 33,
     "metadata": {},
     "output_type": "execute_result"
    }
   ],
   "source": [
    "tuple(\"abc\")"
   ]
  },
  {
   "cell_type": "code",
   "execution_count": 34,
   "id": "2b56b158-1eaa-4696-b21c-72184ed479e5",
   "metadata": {},
   "outputs": [
    {
     "data": {
      "text/plain": [
       "(1, 2, 3)"
      ]
     },
     "execution_count": 34,
     "metadata": {},
     "output_type": "execute_result"
    }
   ],
   "source": [
    "tuple([1,2,3])"
   ]
  },
  {
   "cell_type": "code",
   "execution_count": 36,
   "id": "eb66909e-20d4-4fa2-9b3f-91035a20ac81",
   "metadata": {},
   "outputs": [
    {
     "data": {
      "text/plain": [
       "frozenset({'a', 'b', 'c'})"
      ]
     },
     "execution_count": 36,
     "metadata": {},
     "output_type": "execute_result"
    }
   ],
   "source": [
    "frozenset(\"abcabc\")"
   ]
  },
  {
   "cell_type": "markdown",
   "id": "7c1c04bc-7d15-4d6c-8a5a-6024feec5571",
   "metadata": {},
   "source": [
    "### chr() character   vs   ord()  ordinal\n",
    "\n",
    "one is the reverse of other"
   ]
  },
  {
   "cell_type": "code",
   "execution_count": 54,
   "id": "90583260-3ae6-4356-b373-3a10f5be6f4f",
   "metadata": {},
   "outputs": [
    {
     "name": "stdout",
     "output_type": "stream",
     "text": [
      "a 97\n"
     ]
    }
   ],
   "source": [
    "print(\n",
    "    chr(97),ord(\"a\")\n",
    ")"
   ]
  },
  {
   "cell_type": "code",
   "execution_count": 56,
   "id": "011be304-738b-4238-98d7-35ba03e65616",
   "metadata": {},
   "outputs": [
    {
     "name": "stdout",
     "output_type": "stream",
     "text": [
      "X 88\n"
     ]
    }
   ],
   "source": [
    "print(\n",
    "    chr(88),\n",
    "    ord(\"X\")\n",
    ")"
   ]
  },
  {
   "cell_type": "markdown",
   "id": "366c23e3-67ac-446e-acc7-ef6f9581e059",
   "metadata": {},
   "source": [
    "### bin(); oct(); hex()"
   ]
  },
  {
   "cell_type": "code",
   "execution_count": 57,
   "id": "6cf082d2-689a-477b-b466-f6d3932beb64",
   "metadata": {},
   "outputs": [
    {
     "data": {
      "text/plain": [
       "'0b1010'"
      ]
     },
     "execution_count": 57,
     "metadata": {},
     "output_type": "execute_result"
    },
    {
     "name": "stdout",
     "output_type": "stream",
     "text": [
      "The history saving thread hit an unexpected error (OperationalError('attempt to write a readonly database')).History will not be written to the database.\n"
     ]
    }
   ],
   "source": [
    "bin(10) # String to Binario"
   ]
  },
  {
   "cell_type": "code",
   "execution_count": 58,
   "id": "e548179a-7d99-4484-80fe-f00b0caa5e9e",
   "metadata": {},
   "outputs": [
    {
     "data": {
      "text/plain": [
       "'0o12'"
      ]
     },
     "execution_count": 58,
     "metadata": {},
     "output_type": "execute_result"
    }
   ],
   "source": [
    "oct(10) # string to Octal"
   ]
  },
  {
   "cell_type": "code",
   "execution_count": 59,
   "id": "9f9dd98c-8c47-4620-ba11-5b96354c6891",
   "metadata": {},
   "outputs": [
    {
     "data": {
      "text/plain": [
       "'0xa'"
      ]
     },
     "execution_count": 59,
     "metadata": {},
     "output_type": "execute_result"
    }
   ],
   "source": [
    "hex(10) # string to hexadecimal"
   ]
  },
  {
   "cell_type": "markdown",
   "id": "5dc43d29-3153-4e95-85b2-83a584276b2c",
   "metadata": {},
   "source": [
    "### bytes(); bytearray(); memoryview()"
   ]
  },
  {
   "cell_type": "code",
   "execution_count": 64,
   "id": "304a988c-f57a-4d5a-8579-bb2ca7a8fe8d",
   "metadata": {},
   "outputs": [
    {
     "data": {
      "text/plain": [
       "b'hello'"
      ]
     },
     "execution_count": 64,
     "metadata": {},
     "output_type": "execute_result"
    }
   ],
   "source": [
    "bytes(\"hello\", \"utf-8\")"
   ]
  },
  {
   "cell_type": "code",
   "execution_count": 65,
   "id": "a2d645ab-3509-41b9-b8b3-c617c577c844",
   "metadata": {},
   "outputs": [
    {
     "data": {
      "text/plain": [
       "b'\\x01\\x02\\x03\\x04'"
      ]
     },
     "execution_count": 65,
     "metadata": {},
     "output_type": "execute_result"
    }
   ],
   "source": [
    "bytes([1,2,3,4])"
   ]
  },
  {
   "cell_type": "code",
   "execution_count": 66,
   "id": "10109736-c0cc-4d90-b8fe-8bbae9d1e4f6",
   "metadata": {},
   "outputs": [
    {
     "data": {
      "text/plain": [
       "bytearray(b'hello')"
      ]
     },
     "execution_count": 66,
     "metadata": {},
     "output_type": "execute_result"
    }
   ],
   "source": [
    "bytearray(\"hello\",\"utf-8\")"
   ]
  },
  {
   "cell_type": "code",
   "execution_count": 67,
   "id": "551a6089-9bbd-4b20-a71d-5a0f1619d87d",
   "metadata": {},
   "outputs": [
    {
     "data": {
      "text/plain": [
       "bytearray(b'\\x01\\x02\\x03\\x04')"
      ]
     },
     "execution_count": 67,
     "metadata": {},
     "output_type": "execute_result"
    }
   ],
   "source": [
    "bytearray([1,2,3,4])"
   ]
  },
  {
   "cell_type": "code",
   "execution_count": 68,
   "id": "98e22406-cdac-4265-bad3-4a5663821618",
   "metadata": {},
   "outputs": [
    {
     "data": {
      "text/plain": [
       "<memory at 0x7c37e0d09e40>"
      ]
     },
     "execution_count": 68,
     "metadata": {},
     "output_type": "execute_result"
    }
   ],
   "source": [
    "memoryview(b\"hello\")"
   ]
  },
  {
   "cell_type": "markdown",
   "id": "9d31eec2-66b0-4f3f-ab04-6a2861c68255",
   "metadata": {},
   "source": [
    "## 2. Sequence and Collection Manipulation Functions\n",
    "- **Purpose**: Perform operations on sequences (lists, tuples, strings) and collections (sets, dictionaries)\n",
    "- **Functions**:\n",
    "    - len()\n",
    "    - min(); max();\n",
    "    - sum()\n",
    "    - sorted()\n",
    "    - reversed()\n",
    "    - enumerate()\n",
    "    - zip()\n",
    "    - map(); filter(); reduce() (P.S. reduce() is in the **functools** module)\n",
    "    - all(); any()"
   ]
  },
  {
   "cell_type": "markdown",
   "id": "1cee6c69-482a-44cd-8c21-d66a2c1111ca",
   "metadata": {},
   "source": [
    "### len()\n",
    "\n",
    "- count array size\n",
    "- count string size\n",
    "- count dict size"
   ]
  },
  {
   "cell_type": "code",
   "execution_count": 69,
   "id": "4226b871-8022-4fe7-b25a-df4bb9d4d8a7",
   "metadata": {},
   "outputs": [
    {
     "data": {
      "text/plain": [
       "4"
      ]
     },
     "execution_count": 69,
     "metadata": {},
     "output_type": "execute_result"
    }
   ],
   "source": [
    "len([1,2,3,4])"
   ]
  },
  {
   "cell_type": "code",
   "execution_count": 70,
   "id": "a8150a23-3a86-4be9-8c04-bbe14b0f42dc",
   "metadata": {},
   "outputs": [
    {
     "data": {
      "text/plain": [
       "6"
      ]
     },
     "execution_count": 70,
     "metadata": {},
     "output_type": "execute_result"
    }
   ],
   "source": [
    "len(\"PYTHON\")"
   ]
  },
  {
   "cell_type": "code",
   "execution_count": 71,
   "id": "498e58de-9b1a-44d7-bfdf-7f056bf38c5e",
   "metadata": {},
   "outputs": [
    {
     "data": {
      "text/plain": [
       "2"
      ]
     },
     "execution_count": 71,
     "metadata": {},
     "output_type": "execute_result"
    }
   ],
   "source": [
    "len({\"a\":1,\"b\":2})"
   ]
  },
  {
   "cell_type": "markdown",
   "id": "2d7bc308-18ee-468f-bbea-f098a3a4eb16",
   "metadata": {},
   "source": [
    "### min(); max()"
   ]
  },
  {
   "cell_type": "code",
   "execution_count": 72,
   "id": "b19b3fd0-04a0-44a7-b4f2-8a7750301f8d",
   "metadata": {},
   "outputs": [
    {
     "data": {
      "text/plain": [
       "1"
      ]
     },
     "execution_count": 72,
     "metadata": {},
     "output_type": "execute_result"
    }
   ],
   "source": [
    "min([1,2,3,4])"
   ]
  },
  {
   "cell_type": "code",
   "execution_count": 78,
   "id": "73625a97-2020-4169-ab3f-1546abeb3480",
   "metadata": {},
   "outputs": [
    {
     "data": {
      "text/plain": [
       "'P'"
      ]
     },
     "execution_count": 78,
     "metadata": {},
     "output_type": "execute_result"
    }
   ],
   "source": [
    "min(\"Python\")\n",
    "# return \"P\" according to the ordem ASCII)"
   ]
  },
  {
   "cell_type": "code",
   "execution_count": 79,
   "id": "b7aa377d-c1d2-479a-9995-ef8a4221fdac",
   "metadata": {},
   "outputs": [
    {
     "data": {
      "text/plain": [
       "'a'"
      ]
     },
     "execution_count": 79,
     "metadata": {},
     "output_type": "execute_result"
    }
   ],
   "source": [
    "min(\"abc\")\n",
    "# return \"a\" according to the ordem ASCII)"
   ]
  },
  {
   "cell_type": "code",
   "execution_count": 80,
   "id": "d968c478-e0ca-4f32-b042-8e754906ef6c",
   "metadata": {},
   "outputs": [
    {
     "data": {
      "text/plain": [
       "4"
      ]
     },
     "execution_count": 80,
     "metadata": {},
     "output_type": "execute_result"
    }
   ],
   "source": [
    "max([1,2,3,4])"
   ]
  },
  {
   "cell_type": "code",
   "execution_count": 81,
   "id": "8c6c8387-e027-4474-a52c-b2f5750e8eee",
   "metadata": {},
   "outputs": [
    {
     "data": {
      "text/plain": [
       "'y'"
      ]
     },
     "execution_count": 81,
     "metadata": {},
     "output_type": "execute_result"
    }
   ],
   "source": [
    "max(\"Python\")"
   ]
  },
  {
   "cell_type": "code",
   "execution_count": 82,
   "id": "d8114abb-967d-4e39-9ae8-77dd4f8e8b7e",
   "metadata": {},
   "outputs": [
    {
     "data": {
      "text/plain": [
       "'c'"
      ]
     },
     "execution_count": 82,
     "metadata": {},
     "output_type": "execute_result"
    }
   ],
   "source": [
    "max(\"abc\")"
   ]
  },
  {
   "cell_type": "markdown",
   "id": "06e912d4-e227-4be1-bae2-bd1f8dc8a524",
   "metadata": {},
   "source": [
    "### Interesting example\n",
    "\n",
    "You can use min or max as a thresholder, for example, images are made for matrix in a range of 0 - 255... you can increse the value without the rest of pass 255... so in this case you don't need if else condition, se the example below"
   ]
  },
  {
   "cell_type": "code",
   "execution_count": 86,
   "id": "6b836209-7dab-4d0c-b563-2587d2859589",
   "metadata": {},
   "outputs": [
    {
     "name": "stdout",
     "output_type": "stream",
     "text": [
      "210\n",
      "210\n"
     ]
    }
   ],
   "source": [
    "image = 200\n",
    "\n",
    "increase_brightness = 10\n",
    "\n",
    "\n",
    "new_image = min( [200+increase_brightness, 255] ) # This way you guarantee the value will be less 255 always\n",
    "print(new_image)\n",
    "\n",
    "# Using condition\n",
    "new_image = image + increase_brightness\n",
    "if new_image >255:\n",
    "    new_image = 255\n",
    "print(new_image)\n"
   ]
  },
  {
   "cell_type": "markdown",
   "id": "8cf708a9-d3ad-4e30-b98f-1465284389fc",
   "metadata": {},
   "source": [
    "Same thing works for max, if you want to use it as a threshold to limit small values"
   ]
  },
  {
   "cell_type": "code",
   "execution_count": 89,
   "id": "03d46a28-fe06-4128-b4eb-10b8b7381956",
   "metadata": {},
   "outputs": [
    {
     "data": {
      "text/plain": [
       "10"
      ]
     },
     "execution_count": 89,
     "metadata": {},
     "output_type": "execute_result"
    }
   ],
   "source": [
    "max(10-10-10, 10) # minimum that you can receive is 10"
   ]
  },
  {
   "cell_type": "markdown",
   "id": "83d677d2-cf19-4980-829c-b3d3047433d9",
   "metadata": {},
   "source": [
    "### sum()"
   ]
  },
  {
   "cell_type": "code",
   "execution_count": 90,
   "id": "af33fd8e-c62f-4005-a5d0-ed2fd8926f72",
   "metadata": {},
   "outputs": [
    {
     "data": {
      "text/plain": [
       "15"
      ]
     },
     "execution_count": 90,
     "metadata": {},
     "output_type": "execute_result"
    }
   ],
   "source": [
    "sum([1,2,3,4,5])"
   ]
  },
  {
   "cell_type": "markdown",
   "id": "eabf6b83-c1c8-4508-b354-173cd95469fd",
   "metadata": {},
   "source": [
    "### sorted(); reversed()   (COMPLETELY DIFFERENT)\n",
    "\n",
    "Sorted -> return a list ordered or reversed (reverse=True)\n",
    "\n",
    "\n",
    "ex: v = [1,2,5,5,4]  sorted(v) = [1,2,4,5,5]... or sorted(v , reverse=True) = [5,5,4,2,1]...\n",
    "\n",
    "reversed -> reverse a list (<-) as iterable\n",
    "\n",
    "ex: v = [1,2,5,5,4]  reversed(v) = [4,5,5,2,1]\n"
   ]
  },
  {
   "cell_type": "code",
   "execution_count": 91,
   "id": "8ddfc5f7-7115-4724-bc99-cf6f06550abc",
   "metadata": {},
   "outputs": [
    {
     "data": {
      "text/plain": [
       "[1, 2, 3, 4]"
      ]
     },
     "execution_count": 91,
     "metadata": {},
     "output_type": "execute_result"
    }
   ],
   "source": [
    "sorted([3,1,4,2])"
   ]
  },
  {
   "cell_type": "code",
   "execution_count": 92,
   "id": "c8d1718f-6f8e-4e57-a35b-5177582ed40f",
   "metadata": {},
   "outputs": [
    {
     "data": {
      "text/plain": [
       "[0, 10, 100, 1000]"
      ]
     },
     "execution_count": 92,
     "metadata": {},
     "output_type": "execute_result"
    }
   ],
   "source": [
    "sorted([1000,100,10,0])"
   ]
  },
  {
   "cell_type": "code",
   "execution_count": 94,
   "id": "cf3ea637-840f-40a5-825a-ecf6adda77d9",
   "metadata": {},
   "outputs": [
    {
     "data": {
      "text/plain": [
       "[1000, 100, 10, 0]"
      ]
     },
     "execution_count": 94,
     "metadata": {},
     "output_type": "execute_result"
    }
   ],
   "source": [
    "sorted([1000,100,10,0], reverse= True)"
   ]
  },
  {
   "cell_type": "code",
   "execution_count": 97,
   "id": "b9636690-ffce-4ef9-8180-41afa547c1df",
   "metadata": {},
   "outputs": [
    {
     "data": {
      "text/plain": [
       "['A', 'B', 'C', 'D', 'E', 'F']"
      ]
     },
     "execution_count": 97,
     "metadata": {},
     "output_type": "execute_result"
    }
   ],
   "source": [
    "sorted(\"BCAEDF\")"
   ]
  },
  {
   "cell_type": "code",
   "execution_count": 99,
   "id": "6a6729fb-744c-4cc0-9a0c-7e69e7da5498",
   "metadata": {},
   "outputs": [
    {
     "data": {
      "text/plain": [
       "['F', 'E', 'D', 'C', 'B', 'A']"
      ]
     },
     "execution_count": 99,
     "metadata": {},
     "output_type": "execute_result"
    }
   ],
   "source": [
    "sorted(\"BCAEDF\", reverse=True)"
   ]
  },
  {
   "cell_type": "code",
   "execution_count": 100,
   "id": "c21cb7bd-7f3b-430b-a9b9-5cdcade42fff",
   "metadata": {},
   "outputs": [
    {
     "data": {
      "text/plain": [
       "['F', 'D', 'E', 'A', 'C', 'B']"
      ]
     },
     "execution_count": 100,
     "metadata": {},
     "output_type": "execute_result"
    }
   ],
   "source": [
    "list( reversed(\"BCAEDF\") )"
   ]
  },
  {
   "cell_type": "code",
   "execution_count": 101,
   "id": "5156c15e-5441-43d4-bee9-ad62cc1176e3",
   "metadata": {},
   "outputs": [
    {
     "data": {
      "text/plain": [
       "'nohtyP'"
      ]
     },
     "execution_count": 101,
     "metadata": {},
     "output_type": "execute_result"
    }
   ],
   "source": [
    "\"\".join(reversed(\"Python\"))"
   ]
  },
  {
   "cell_type": "code",
   "execution_count": 105,
   "id": "9d00e9db-764c-407b-9379-421ca273e7cd",
   "metadata": {},
   "outputs": [
    {
     "data": {
      "text/plain": [
       "'ytonhP'"
      ]
     },
     "execution_count": 105,
     "metadata": {},
     "output_type": "execute_result"
    }
   ],
   "source": [
    "\"\".join(sorted(\"Python\", reverse = True))"
   ]
  },
  {
   "cell_type": "markdown",
   "id": "6ddcdbb5-7f31-4b2d-9f7d-5d88eac6f12a",
   "metadata": {},
   "source": [
    "### enumerate()"
   ]
  },
  {
   "cell_type": "code",
   "execution_count": 106,
   "id": "464de438-cc8e-4954-8943-b6d5b573b0c5",
   "metadata": {},
   "outputs": [
    {
     "name": "stdout",
     "output_type": "stream",
     "text": [
      "0 10\n",
      "1 100\n",
      "2 200\n"
     ]
    }
   ],
   "source": [
    "for n, x in enumerate([10,100,200]):\n",
    "    print(n, x)"
   ]
  },
  {
   "cell_type": "code",
   "execution_count": 108,
   "id": "1be9af36-5fee-484b-8ee7-a157571e9b8d",
   "metadata": {},
   "outputs": [
    {
     "data": {
      "text/plain": [
       "[(0, 100), (1, 200), (2, 300)]"
      ]
     },
     "execution_count": 108,
     "metadata": {},
     "output_type": "execute_result"
    }
   ],
   "source": [
    "list( enumerate([100,200,300]))"
   ]
  },
  {
   "cell_type": "markdown",
   "id": "0eb02d72-13be-4755-9b80-c0ec5194aa84",
   "metadata": {},
   "source": [
    "### zip()\n",
    "Combines two or more iterables, returning an iterator of tuples where the i-th element contains the i-th item from each of the iterables."
   ]
  },
  {
   "cell_type": "code",
   "execution_count": 109,
   "id": "e2298182-b064-489a-9c68-59d59c89e39e",
   "metadata": {},
   "outputs": [
    {
     "name": "stdout",
     "output_type": "stream",
     "text": [
      "a 1\n",
      "a 2\n",
      "a 3\n",
      "a 4\n",
      "b 1\n",
      "b 2\n",
      "b 3\n",
      "b 4\n",
      "c 1\n",
      "c 2\n",
      "c 3\n",
      "c 4\n",
      "d 1\n",
      "d 2\n",
      "d 3\n",
      "d 4\n"
     ]
    }
   ],
   "source": [
    "x = [\"a\",\"b\",\"c\",\"d\"]\n",
    "y = [1,2,3,4]\n",
    "\n",
    "for i in x:\n",
    "    for j in y:\n",
    "        print(i,j)"
   ]
  },
  {
   "cell_type": "code",
   "execution_count": 110,
   "id": "a0be8b79-494d-4c0e-871f-6d4c6527a2dc",
   "metadata": {},
   "outputs": [
    {
     "name": "stdout",
     "output_type": "stream",
     "text": [
      "a 1\n",
      "b 2\n",
      "c 3\n",
      "d 4\n"
     ]
    }
   ],
   "source": [
    "for i,j in zip(x,y):\n",
    "    print(i,j)"
   ]
  },
  {
   "cell_type": "markdown",
   "id": "b12b09d0-2a08-4431-bd4f-5f059eb504f2",
   "metadata": {},
   "source": [
    "### map(); filter(); reduce()\n",
    "\n",
    "- **map()**: Apply a function in each element in a iterable\n",
    "- **filter()**: filter elements in a list according to the condition/function\n",
    "- **reduce()**: reduce all vector to an one element"
   ]
  },
  {
   "cell_type": "code",
   "execution_count": 113,
   "id": "0a1fc15b-40bd-44ad-8df7-b09664e60f7e",
   "metadata": {},
   "outputs": [
    {
     "name": "stdout",
     "output_type": "stream",
     "text": [
      "['1', '2', '3', '4', '5', '6']\n",
      "[1, 2, 3, 4, 5, 6]\n"
     ]
    }
   ],
   "source": [
    "v = list(\"123456\")\n",
    "print(v)\n",
    "\n",
    "v_int = list(map(int, v))\n",
    "print(v_int)"
   ]
  },
  {
   "cell_type": "code",
   "execution_count": 119,
   "id": "d09ccd3e-611a-4636-aba2-12faee221d76",
   "metadata": {},
   "outputs": [
    {
     "data": {
      "text/plain": [
       "[1, 8, 27, 64, 125, 216]"
      ]
     },
     "execution_count": 119,
     "metadata": {},
     "output_type": "execute_result"
    }
   ],
   "source": [
    "def cube(x:int)->int:\n",
    "    return x**3\n",
    "\n",
    "new_v = list(map(cube, v_int))\n",
    "new_v"
   ]
  },
  {
   "cell_type": "code",
   "execution_count": 120,
   "id": "9b5762aa-465e-4b53-8aca-bce9a05b2c21",
   "metadata": {},
   "outputs": [
    {
     "data": {
      "text/plain": [
       "['A', 'B', 'C', 'D']"
      ]
     },
     "execution_count": 120,
     "metadata": {},
     "output_type": "execute_result"
    }
   ],
   "source": [
    "string_list = list(\"abcd\")\n",
    "\n",
    "list(map(str.upper, string_list))"
   ]
  },
  {
   "cell_type": "code",
   "execution_count": 122,
   "id": "377c1039-f600-471a-8f2b-4a045fcfbbb0",
   "metadata": {
    "scrolled": true
   },
   "outputs": [
    {
     "data": {
      "text/plain": [
       "[2, 4, 6]"
      ]
     },
     "execution_count": 122,
     "metadata": {},
     "output_type": "execute_result"
    }
   ],
   "source": [
    "def check_even(x:int) -> int|None:\n",
    "    if x%2 == 0:\n",
    "        return x\n",
    "\n",
    "list(filter(check_even, v_int))"
   ]
  },
  {
   "cell_type": "code",
   "execution_count": 135,
   "id": "a2f2e8b0-063c-4ab0-8e91-045b31152eec",
   "metadata": {},
   "outputs": [
    {
     "name": "stdout",
     "output_type": "stream",
     "text": [
      "[1, 2, 3, 4, 5, 6]\n"
     ]
    },
    {
     "data": {
      "text/plain": [
       "21"
      ]
     },
     "execution_count": 135,
     "metadata": {},
     "output_type": "execute_result"
    }
   ],
   "source": [
    "from functools import reduce\n",
    "print(v_int)\n",
    "reduce(lambda x,y: x+y, v_int)"
   ]
  },
  {
   "cell_type": "markdown",
   "id": "8bd4014d-829b-4907-9b6d-1f7dd114f7ac",
   "metadata": {},
   "source": [
    "### all(); any()"
   ]
  },
  {
   "cell_type": "code",
   "execution_count": 1,
   "id": "7427c50e-bd7d-467d-91b8-03367a8060f7",
   "metadata": {},
   "outputs": [
    {
     "data": {
      "text/plain": [
       "True"
      ]
     },
     "execution_count": 1,
     "metadata": {},
     "output_type": "execute_result"
    }
   ],
   "source": [
    "all([True,True,True])"
   ]
  },
  {
   "cell_type": "code",
   "execution_count": 2,
   "id": "6b70e73d-60ea-4c80-86ea-5d32ced02801",
   "metadata": {},
   "outputs": [
    {
     "data": {
      "text/plain": [
       "False"
      ]
     },
     "execution_count": 2,
     "metadata": {},
     "output_type": "execute_result"
    }
   ],
   "source": [
    "all([True,False,True])"
   ]
  },
  {
   "cell_type": "code",
   "execution_count": 3,
   "id": "d3ac1b29-41eb-40b5-acef-a6e12aa37f18",
   "metadata": {},
   "outputs": [
    {
     "data": {
      "text/plain": [
       "False"
      ]
     },
     "execution_count": 3,
     "metadata": {},
     "output_type": "execute_result"
    }
   ],
   "source": [
    "all([False,False,False])"
   ]
  },
  {
   "cell_type": "code",
   "execution_count": 6,
   "id": "6e8be30a-4256-42fa-923d-73665c1e2429",
   "metadata": {},
   "outputs": [
    {
     "data": {
      "text/plain": [
       "True"
      ]
     },
     "execution_count": 6,
     "metadata": {},
     "output_type": "execute_result"
    }
   ],
   "source": [
    "all([])"
   ]
  },
  {
   "cell_type": "code",
   "execution_count": 5,
   "id": "4ec5ec8d-0ae9-489b-8b83-6fa7d7814987",
   "metadata": {
    "scrolled": true
   },
   "outputs": [
    {
     "data": {
      "text/plain": [
       "False"
      ]
     },
     "execution_count": 5,
     "metadata": {},
     "output_type": "execute_result"
    }
   ],
   "source": [
    "all([None])"
   ]
  },
  {
   "cell_type": "code",
   "execution_count": 8,
   "id": "5fb379f1-704e-449e-914c-ef8f5acbc070",
   "metadata": {},
   "outputs": [
    {
     "data": {
      "text/plain": [
       "True"
      ]
     },
     "execution_count": 8,
     "metadata": {},
     "output_type": "execute_result"
    }
   ],
   "source": [
    "any([True,True,True])"
   ]
  },
  {
   "cell_type": "code",
   "execution_count": 9,
   "id": "46fb2737-2f4a-45fd-8ec4-fe96d11d48a1",
   "metadata": {},
   "outputs": [
    {
     "data": {
      "text/plain": [
       "True"
      ]
     },
     "execution_count": 9,
     "metadata": {},
     "output_type": "execute_result"
    }
   ],
   "source": [
    "any([True,False,True])"
   ]
  },
  {
   "cell_type": "code",
   "execution_count": 10,
   "id": "b4f07490-f53a-4d6f-aba3-3ec9490a4adc",
   "metadata": {},
   "outputs": [
    {
     "data": {
      "text/plain": [
       "False"
      ]
     },
     "execution_count": 10,
     "metadata": {},
     "output_type": "execute_result"
    }
   ],
   "source": [
    "any([False,False,False])"
   ]
  },
  {
   "cell_type": "code",
   "execution_count": 13,
   "id": "96708163-22f2-4680-b79f-368480f667a9",
   "metadata": {},
   "outputs": [
    {
     "data": {
      "text/plain": [
       "False"
      ]
     },
     "execution_count": 13,
     "metadata": {},
     "output_type": "execute_result"
    }
   ],
   "source": [
    "any([False,None,False])"
   ]
  },
  {
   "cell_type": "code",
   "execution_count": 14,
   "id": "4457a5c7-c111-4aa2-8a8d-b2e89e716685",
   "metadata": {},
   "outputs": [
    {
     "data": {
      "text/plain": [
       "False"
      ]
     },
     "execution_count": 14,
     "metadata": {},
     "output_type": "execute_result"
    }
   ],
   "source": [
    "any([])"
   ]
  },
  {
   "cell_type": "markdown",
   "id": "e84337dc-8ec6-4bbb-b7d0-7ca377676209",
   "metadata": {
    "jp-MarkdownHeadingCollapsed": true
   },
   "source": [
    "## 3. Mathematical and Numeric Functions\n",
    "- **Purpose**: Execute basic mathematical operations\n",
    "- **Functions**:\n",
    "    - abs()\n",
    "    - around()\n",
    "    - divmod()\n",
    "    - pow()\n",
    "    - sum()\n",
    "    - max(); min()"
   ]
  },
  {
   "cell_type": "markdown",
   "id": "301cf802-3e81-4e85-8fe3-4023063a0284",
   "metadata": {},
   "source": [
    "### abs()"
   ]
  },
  {
   "cell_type": "code",
   "execution_count": 15,
   "id": "db42d151-5d34-4d5f-ac02-cd0dc3853b20",
   "metadata": {},
   "outputs": [
    {
     "data": {
      "text/plain": [
       "5"
      ]
     },
     "execution_count": 15,
     "metadata": {},
     "output_type": "execute_result"
    }
   ],
   "source": [
    "abs(5)"
   ]
  },
  {
   "cell_type": "code",
   "execution_count": 16,
   "id": "b53457cd-6227-428a-a024-b9a1be9a24b2",
   "metadata": {},
   "outputs": [
    {
     "data": {
      "text/plain": [
       "5"
      ]
     },
     "execution_count": 16,
     "metadata": {},
     "output_type": "execute_result"
    }
   ],
   "source": [
    "abs(-5)"
   ]
  },
  {
   "cell_type": "markdown",
   "id": "5b82050f-d6ed-479f-8602-802627ad3c47",
   "metadata": {},
   "source": [
    "### round()"
   ]
  },
  {
   "cell_type": "code",
   "execution_count": 17,
   "id": "880c84ec-c113-45ad-9ab8-cbb22bbdafef",
   "metadata": {},
   "outputs": [
    {
     "data": {
      "text/plain": [
       "3.97"
      ]
     },
     "execution_count": 17,
     "metadata": {},
     "output_type": "execute_result"
    }
   ],
   "source": [
    "round(3.96783, 2)"
   ]
  },
  {
   "cell_type": "code",
   "execution_count": 18,
   "id": "cb402166-508c-446d-905e-b3b5e815f4d3",
   "metadata": {},
   "outputs": [
    {
     "data": {
      "text/plain": [
       "4.0"
      ]
     },
     "execution_count": 18,
     "metadata": {},
     "output_type": "execute_result"
    }
   ],
   "source": [
    "round(3.96783, 1)"
   ]
  },
  {
   "cell_type": "code",
   "execution_count": 21,
   "id": "e46fc930-f123-4795-a2f8-564cac4c4e39",
   "metadata": {},
   "outputs": [
    {
     "data": {
      "text/plain": [
       "3.5"
      ]
     },
     "execution_count": 21,
     "metadata": {},
     "output_type": "execute_result"
    }
   ],
   "source": [
    "round(3.46783, 1)"
   ]
  },
  {
   "cell_type": "code",
   "execution_count": 22,
   "id": "64f0a918-1b4a-4d06-9f83-08fa5f0d31be",
   "metadata": {},
   "outputs": [
    {
     "data": {
      "text/plain": [
       "3.0"
      ]
     },
     "execution_count": 22,
     "metadata": {},
     "output_type": "execute_result"
    }
   ],
   "source": [
    "round(3.46783, 0)"
   ]
  },
  {
   "cell_type": "code",
   "execution_count": 23,
   "id": "6c9f0d32-7c81-4b81-baac-7aa3c7e0faaa",
   "metadata": {},
   "outputs": [
    {
     "data": {
      "text/plain": [
       "3.468"
      ]
     },
     "execution_count": 23,
     "metadata": {},
     "output_type": "execute_result"
    }
   ],
   "source": [
    "round(3.46783, 3)"
   ]
  },
  {
   "cell_type": "code",
   "execution_count": 44,
   "id": "84b7acd0-5e50-432f-86bd-dd6f942273a9",
   "metadata": {},
   "outputs": [
    {
     "name": "stdout",
     "output_type": "stream",
     "text": [
      "-0.6349999999999998\n"
     ]
    }
   ],
   "source": [
    "numbers = [3.545, 2.545, 4.545]\n",
    "total = sum(map(lambda x: round(x,3), numbers))\n",
    "result = abs(-10) - total\n",
    "print(result)"
   ]
  },
  {
   "cell_type": "markdown",
   "id": "ac84bfec-ec82-47da-be20-b75e3058b3bd",
   "metadata": {},
   "source": [
    "### divmod()"
   ]
  },
  {
   "cell_type": "code",
   "execution_count": 25,
   "id": "29447857-647f-4d6c-b146-b888727e5eb7",
   "metadata": {},
   "outputs": [
    {
     "data": {
      "text/plain": [
       "(3, 1)"
      ]
     },
     "execution_count": 25,
     "metadata": {},
     "output_type": "execute_result"
    }
   ],
   "source": [
    "divmod(10,3) # return: Quociente / resto"
   ]
  },
  {
   "cell_type": "code",
   "execution_count": 26,
   "id": "75f1bbfd-4207-468e-9468-231ba884d2dd",
   "metadata": {},
   "outputs": [
    {
     "data": {
      "text/plain": [
       "(2, 2)"
      ]
     },
     "execution_count": 26,
     "metadata": {},
     "output_type": "execute_result"
    }
   ],
   "source": [
    "divmod(10,4) # return: Quociente / resto"
   ]
  },
  {
   "cell_type": "markdown",
   "id": "4eac8e8a-7aaa-4082-9511-7becb6e63583",
   "metadata": {},
   "source": [
    "### pow()"
   ]
  },
  {
   "cell_type": "code",
   "execution_count": 27,
   "id": "cd219f71-d97c-4f11-aaa5-bcd258c93aa3",
   "metadata": {},
   "outputs": [
    {
     "data": {
      "text/plain": [
       "8"
      ]
     },
     "execution_count": 27,
     "metadata": {},
     "output_type": "execute_result"
    }
   ],
   "source": [
    "pow(2,3)"
   ]
  },
  {
   "cell_type": "code",
   "execution_count": 28,
   "id": "b52c6849-93a7-4832-b42e-1a6954e9d821",
   "metadata": {},
   "outputs": [
    {
     "data": {
      "text/plain": [
       "True"
      ]
     },
     "execution_count": 28,
     "metadata": {},
     "output_type": "execute_result"
    }
   ],
   "source": [
    "pow(2,3) == 2**3"
   ]
  },
  {
   "cell_type": "markdown",
   "id": "dfc968ab-7fce-4cd7-953f-26e44d21e9ce",
   "metadata": {},
   "source": [
    "### sum()"
   ]
  },
  {
   "cell_type": "code",
   "execution_count": 29,
   "id": "193a0dcc-611a-4601-b881-fececaf31f8a",
   "metadata": {},
   "outputs": [
    {
     "data": {
      "text/plain": [
       "55"
      ]
     },
     "execution_count": 29,
     "metadata": {},
     "output_type": "execute_result"
    }
   ],
   "source": [
    "sum([1,2,3,4,5,6,7,8,9,10])"
   ]
  },
  {
   "cell_type": "markdown",
   "id": "8e7be678-827e-47b3-bc15-a483aabde485",
   "metadata": {},
   "source": [
    "### max() min()"
   ]
  },
  {
   "cell_type": "code",
   "execution_count": 30,
   "id": "ac34cd8e-62b9-4db8-b00b-7c4cef240a1d",
   "metadata": {},
   "outputs": [
    {
     "data": {
      "text/plain": [
       "10"
      ]
     },
     "execution_count": 30,
     "metadata": {},
     "output_type": "execute_result"
    }
   ],
   "source": [
    "max([1,2,3,4,5,6,7,8,9,10])"
   ]
  },
  {
   "cell_type": "code",
   "execution_count": 31,
   "id": "307c712c-3cf7-4fc7-9652-68f269b6e451",
   "metadata": {},
   "outputs": [
    {
     "data": {
      "text/plain": [
       "1"
      ]
     },
     "execution_count": 31,
     "metadata": {},
     "output_type": "execute_result"
    }
   ],
   "source": [
    "min([1,2,3,4,5,6,7,8,9,10])"
   ]
  },
  {
   "cell_type": "markdown",
   "id": "3da3a18d-8033-41d8-8e94-90d0451f65ea",
   "metadata": {
    "jp-MarkdownHeadingCollapsed": true
   },
   "source": [
    "## 4. Input/Ouput Functions\n",
    "- **Purpose**: Interact with the user or manipulates files.\n",
    "- **Functions**:\n",
    "    - print()\n",
    "    - input()\n",
    "    - open() "
   ]
  },
  {
   "cell_type": "markdown",
   "id": "cfd35cdc-11a2-4d67-9c4c-946802d08a0a",
   "metadata": {},
   "source": [
    "### print()"
   ]
  },
  {
   "cell_type": "code",
   "execution_count": 45,
   "id": "da0a71c9-95d1-4bb9-93ca-26f08e7653f6",
   "metadata": {},
   "outputs": [
    {
     "name": "stdout",
     "output_type": "stream",
     "text": [
      "Hello World!\n"
     ]
    }
   ],
   "source": [
    "print(\"Hello World!\")"
   ]
  },
  {
   "cell_type": "code",
   "execution_count": 50,
   "id": "4055f203-4ea6-48c0-88c6-fc15c1ee7862",
   "metadata": {},
   "outputs": [
    {
     "name": "stdout",
     "output_type": "stream",
     "text": [
      "Hello World!\n"
     ]
    }
   ],
   "source": [
    "print(\"Hello\",\"World!\")"
   ]
  },
  {
   "cell_type": "code",
   "execution_count": 52,
   "id": "a077a77e-77bd-4be0-8e23-cc816eb35560",
   "metadata": {},
   "outputs": [
    {
     "name": "stdout",
     "output_type": "stream",
     "text": [
      "Hello\n",
      "World!\n"
     ]
    }
   ],
   "source": [
    "print(\"Hello\",\"World!\", sep=\"\\n\")"
   ]
  },
  {
   "cell_type": "code",
   "execution_count": 54,
   "id": "67b4d1a3-830e-4cb4-8c84-b72e692c6fc5",
   "metadata": {},
   "outputs": [
    {
     "name": "stdout",
     "output_type": "stream",
     "text": [
      "Hello\n",
      "World\n"
     ]
    }
   ],
   "source": [
    "print(*[\"Hello\",\"World\"], sep=\"\\n\")"
   ]
  },
  {
   "cell_type": "code",
   "execution_count": 56,
   "id": "a4d27699-a575-469a-ae1c-1dee68bde3b1",
   "metadata": {},
   "outputs": [
    {
     "name": "stdout",
     "output_type": "stream",
     "text": [
      "H\n",
      "e\n",
      "l\n",
      "l\n",
      "o\n"
     ]
    }
   ],
   "source": [
    "print(*\"Hello\", sep=\"\\n\")"
   ]
  },
  {
   "cell_type": "code",
   "execution_count": 57,
   "id": "2f7ecf1d-3933-44c3-a54b-342f5bc8e145",
   "metadata": {},
   "outputs": [
    {
     "name": "stdout",
     "output_type": "stream",
     "text": [
      "Hello!"
     ]
    }
   ],
   "source": [
    "print(\"Hello\", end=\"!\")"
   ]
  },
  {
   "cell_type": "code",
   "execution_count": 61,
   "id": "61398eb0-fdf0-4056-ab92-9fc7fc28d01c",
   "metadata": {},
   "outputs": [
    {
     "name": "stdout",
     "output_type": "stream",
     "text": [
      "Hello World!!!!!!!!!!!!!!!"
     ]
    }
   ],
   "source": [
    "print(\"Hello\",\"World\", end=\"!!!!!!!!!!!!!!!\")"
   ]
  },
  {
   "cell_type": "markdown",
   "id": "03613b5f-2091-4ab0-9ac8-82f106824bce",
   "metadata": {},
   "source": [
    "### input() (P.S. for default will be a string)"
   ]
  },
  {
   "cell_type": "code",
   "execution_count": 62,
   "id": "80019fcb-025d-448f-b004-39242174b103",
   "metadata": {},
   "outputs": [
    {
     "name": "stdin",
     "output_type": "stream",
     "text": [
      " 10\n"
     ]
    },
    {
     "data": {
      "text/plain": [
       "'10'"
      ]
     },
     "execution_count": 62,
     "metadata": {},
     "output_type": "execute_result"
    }
   ],
   "source": [
    "x = input()\n",
    "x"
   ]
  },
  {
   "cell_type": "code",
   "execution_count": 64,
   "id": "8a50baa4-2279-443f-8a2c-c8ed7b26dc2c",
   "metadata": {},
   "outputs": [
    {
     "name": "stdin",
     "output_type": "stream",
     "text": [
      "Insert a Number:  100\n"
     ]
    },
    {
     "data": {
      "text/plain": [
       "100"
      ]
     },
     "execution_count": 64,
     "metadata": {},
     "output_type": "execute_result"
    }
   ],
   "source": [
    "x = int( input(\"Insert a Number: \") )\n",
    "x"
   ]
  },
  {
   "cell_type": "markdown",
   "id": "64541aa6-1ad4-4009-b6b7-4b3f786e890f",
   "metadata": {},
   "source": [
    "### open(filename, )\n",
    "\n",
    "modes:\n",
    "\n",
    "- \"r\": Open for reading (default). The file must exist.\n",
    "- \"w\": Open for writing, overwriting the existing file or creating a new one.\n",
    "- \"a\": Open for writing, appending to the end of the file if it exists.\n",
    "- \"b\": Binary mode (used in combination with \"r\", \"w\", or \"a\").\n",
    "- \"x\": Creates a new file and opens it for writing. Generates an error if the file already exists.\n",
    "- \"t\": Text mode (default)."
   ]
  },
  {
   "cell_type": "code",
   "execution_count": 68,
   "id": "17bf26e2-06b0-4219-a76d-18d34b690d48",
   "metadata": {},
   "outputs": [],
   "source": [
    "arq = open(\"create_example.txt\", \"w\")\n",
    "\n",
    "for i in range(0,10):\n",
    "    write = f\"{str(i)}\\n\"\n",
    "    arq.write(write)\n",
    "\n",
    "arq.close()\n"
   ]
  },
  {
   "cell_type": "code",
   "execution_count": 69,
   "id": "1b622b6c-7e67-4d98-95ec-f08d83fd9066",
   "metadata": {},
   "outputs": [
    {
     "name": "stdout",
     "output_type": "stream",
     "text": [
      "0\n",
      "\n",
      "1\n",
      "\n",
      "2\n",
      "\n",
      "3\n",
      "\n",
      "4\n",
      "\n",
      "5\n",
      "\n",
      "6\n",
      "\n",
      "7\n",
      "\n",
      "8\n",
      "\n",
      "9\n",
      "\n"
     ]
    }
   ],
   "source": [
    "arq = open(\"create_example.txt\", \"r\")\n",
    "lines = arq.readlines()\n",
    "\n",
    "for line in lines:\n",
    "    print(line)\n",
    "\n",
    "arq.close()\n"
   ]
  },
  {
   "cell_type": "markdown",
   "id": "94dc2b26-5711-4dc5-b748-0a8a0f93c901",
   "metadata": {
    "jp-MarkdownHeadingCollapsed": true
   },
   "source": [
    "## 5. Object Manipulation Functions\n",
    "- **Purpose**: Work with objects and attributes\n",
    "- **Functions**:\n",
    "    - type(); isinstance()\n",
    "    - id()\n",
    "    - dir(); help()\n",
    "    - vars()\n",
    "    - hasattr(); getattr(); setattr(); delattr()"
   ]
  },
  {
   "cell_type": "markdown",
   "id": "e0c1175f-b8a5-48cb-ae48-c640e73a70b7",
   "metadata": {},
   "source": [
    "### type()"
   ]
  },
  {
   "cell_type": "code",
   "execution_count": 70,
   "id": "c7d7a644-7e57-4899-b7ae-09285a7821bb",
   "metadata": {},
   "outputs": [
    {
     "data": {
      "text/plain": [
       "int"
      ]
     },
     "execution_count": 70,
     "metadata": {},
     "output_type": "execute_result"
    }
   ],
   "source": [
    "type(5)"
   ]
  },
  {
   "cell_type": "code",
   "execution_count": 71,
   "id": "34b969e7-b253-4836-bb46-d8f4f43be07e",
   "metadata": {},
   "outputs": [
    {
     "data": {
      "text/plain": [
       "str"
      ]
     },
     "execution_count": 71,
     "metadata": {},
     "output_type": "execute_result"
    }
   ],
   "source": [
    "type(\"oi\")"
   ]
  },
  {
   "cell_type": "code",
   "execution_count": 72,
   "id": "8e836af1-71cd-42f0-bc2a-eb302ff7a89f",
   "metadata": {},
   "outputs": [
    {
     "data": {
      "text/plain": [
       "list"
      ]
     },
     "execution_count": 72,
     "metadata": {},
     "output_type": "execute_result"
    }
   ],
   "source": [
    "type([1,2,3])"
   ]
  },
  {
   "cell_type": "code",
   "execution_count": 73,
   "id": "2b10c461-52f4-48fb-940b-5fe7f97a467e",
   "metadata": {},
   "outputs": [
    {
     "name": "stdout",
     "output_type": "stream",
     "text": [
      "do something\n"
     ]
    }
   ],
   "source": [
    "if type(10) == int:\n",
    "    print(\"do something\")"
   ]
  },
  {
   "cell_type": "markdown",
   "id": "23733b0d-9f37-44e9-b967-456464eb7e18",
   "metadata": {},
   "source": [
    "### isinstance()"
   ]
  },
  {
   "cell_type": "code",
   "execution_count": 75,
   "id": "2e6d1591-4be9-4d44-84c2-1eea6451d238",
   "metadata": {},
   "outputs": [
    {
     "data": {
      "text/plain": [
       "True"
      ]
     },
     "execution_count": 75,
     "metadata": {},
     "output_type": "execute_result"
    }
   ],
   "source": [
    "isinstance(10,int)"
   ]
  },
  {
   "cell_type": "code",
   "execution_count": 76,
   "id": "48901236-8bb4-42e9-ace7-a15eb4267486",
   "metadata": {},
   "outputs": [
    {
     "data": {
      "text/plain": [
       "False"
      ]
     },
     "execution_count": 76,
     "metadata": {},
     "output_type": "execute_result"
    }
   ],
   "source": [
    "isinstance(10.10,int)"
   ]
  },
  {
   "cell_type": "code",
   "execution_count": 77,
   "id": "b44ba3e2-8eba-4812-be49-c4c20172325e",
   "metadata": {},
   "outputs": [
    {
     "name": "stdout",
     "output_type": "stream",
     "text": [
      "do something\n"
     ]
    }
   ],
   "source": [
    "x = [1,2,3,4]\n",
    "if isinstance(x,list):\n",
    "    print(\"do something\")"
   ]
  },
  {
   "cell_type": "markdown",
   "id": "f9fadf2d-1c5e-4197-8f4a-ae3e82e7ac48",
   "metadata": {},
   "source": [
    "### id()\n",
    "\n",
    "return id of an object (memory)"
   ]
  },
  {
   "cell_type": "code",
   "execution_count": 80,
   "id": "293ec934-7962-4454-858a-0cdf0c90c05e",
   "metadata": {},
   "outputs": [
    {
     "data": {
      "text/plain": [
       "132264326750600"
      ]
     },
     "execution_count": 80,
     "metadata": {},
     "output_type": "execute_result"
    }
   ],
   "source": [
    "id(10)"
   ]
  },
  {
   "cell_type": "code",
   "execution_count": 81,
   "id": "1e8e1556-cca1-4c52-98b0-25ae83cd94dd",
   "metadata": {},
   "outputs": [
    {
     "data": {
      "text/plain": [
       "132264196074096"
      ]
     },
     "execution_count": 81,
     "metadata": {},
     "output_type": "execute_result"
    }
   ],
   "source": [
    "id(\"oi\")"
   ]
  },
  {
   "cell_type": "code",
   "execution_count": 79,
   "id": "208bb07b-531d-42f6-8faa-44361ab30ebf",
   "metadata": {},
   "outputs": [
    {
     "data": {
      "text/plain": [
       "True"
      ]
     },
     "execution_count": 79,
     "metadata": {},
     "output_type": "execute_result"
    }
   ],
   "source": [
    "a = 10\n",
    "b = 10\n",
    "\n",
    "id(a) == id(b)"
   ]
  },
  {
   "cell_type": "markdown",
   "id": "73d3ca59-81d1-4593-9a53-b738a0be575a",
   "metadata": {},
   "source": [
    "### dir(); help()"
   ]
  },
  {
   "cell_type": "code",
   "execution_count": 86,
   "id": "15211b55-fc11-4101-9fa8-c16908ec2832",
   "metadata": {},
   "outputs": [
    {
     "name": "stdout",
     "output_type": "stream",
     "text": [
      "Help on function function in module __main__:\n",
      "\n",
      "function()\n",
      "    blablablablabla...\n",
      "\n"
     ]
    }
   ],
   "source": [
    "def function():\n",
    "    \"blablablablabla...\"\n",
    "    pass\n",
    "\n",
    "help(function)"
   ]
  },
  {
   "cell_type": "code",
   "execution_count": 83,
   "id": "f3025f42-e2be-4538-b77b-9f0bdd8c9142",
   "metadata": {},
   "outputs": [
    {
     "name": "stdout",
     "output_type": "stream",
     "text": [
      "Help on built-in function dir in module builtins:\n",
      "\n",
      "dir(...)\n",
      "    dir([object]) -> list of strings\n",
      "    \n",
      "    If called without an argument, return the names in the current scope.\n",
      "    Else, return an alphabetized list of names comprising (some of) the attributes\n",
      "    of the given object, and of attributes reachable from it.\n",
      "    If the object supplies a method named __dir__, it will be used; otherwise\n",
      "    the default dir() logic is used and returns:\n",
      "      for a module object: the module's attributes.\n",
      "      for a class object:  its attributes, and recursively the attributes\n",
      "        of its bases.\n",
      "      for any other object: its attributes, its class's attributes, and\n",
      "        recursively the attributes of its class's base classes.\n",
      "\n"
     ]
    }
   ],
   "source": [
    "help(dir)"
   ]
  },
  {
   "cell_type": "code",
   "execution_count": 103,
   "id": "78931e53-522d-41c1-8103-0be49b3d7369",
   "metadata": {},
   "outputs": [
    {
     "name": "stdout",
     "output_type": "stream",
     "text": [
      "['__abs__', '__add__', '__and__', '__bool__', '__ceil__', '__class__', '__delattr__', '__dir__', '__divmod__', '__doc__', '__eq__', '__float__', '__floor__', '__floordiv__', '__format__', '__ge__', '__getattribute__', '__getnewargs__', '__getstate__', '__gt__', '__hash__', '__index__', '__init__', '__init_subclass__', '__int__', '__invert__', '__le__', '__lshift__', '__lt__', '__mod__', '__mul__', '__ne__', '__neg__', '__new__', '__or__', '__pos__', '__pow__', '__radd__', '__rand__', '__rdivmod__', '__reduce__', '__reduce_ex__', '__repr__', '__rfloordiv__', '__rlshift__', '__rmod__', '__rmul__', '__ror__', '__round__', '__rpow__', '__rrshift__', '__rshift__', '__rsub__', '__rtruediv__', '__rxor__', '__setattr__', '__sizeof__', '__str__', '__sub__', '__subclasshook__', '__truediv__', '__trunc__', '__xor__', 'as_integer_ratio', 'bit_count', 'bit_length', 'conjugate', 'denominator', 'from_bytes', 'imag', 'numerator', 'real', 'to_bytes']\n"
     ]
    }
   ],
   "source": [
    "x = 10\n",
    "print( dir(x) )"
   ]
  },
  {
   "cell_type": "code",
   "execution_count": 95,
   "id": "a0ab4511-6732-4c03-815b-e0210e4b3a77",
   "metadata": {},
   "outputs": [
    {
     "data": {
      "text/plain": [
       "10"
      ]
     },
     "execution_count": 95,
     "metadata": {},
     "output_type": "execute_result"
    }
   ],
   "source": [
    "x.real"
   ]
  },
  {
   "cell_type": "code",
   "execution_count": 96,
   "id": "3d0c4c5e-3d65-4e8c-8fd2-285e68b5e4e0",
   "metadata": {},
   "outputs": [
    {
     "data": {
      "text/plain": [
       "0"
      ]
     },
     "execution_count": 96,
     "metadata": {},
     "output_type": "execute_result"
    }
   ],
   "source": [
    "x.imag"
   ]
  },
  {
   "cell_type": "code",
   "execution_count": 99,
   "id": "2b474783-811b-49d3-895c-8cff3e292709",
   "metadata": {},
   "outputs": [
    {
     "data": {
      "text/plain": [
       "1"
      ]
     },
     "execution_count": 99,
     "metadata": {},
     "output_type": "execute_result"
    }
   ],
   "source": [
    "x.denominator"
   ]
  },
  {
   "cell_type": "code",
   "execution_count": 100,
   "id": "30a60f60-ce0c-47a6-b6c8-3464d3976b9c",
   "metadata": {},
   "outputs": [
    {
     "data": {
      "text/plain": [
       "2"
      ]
     },
     "execution_count": 100,
     "metadata": {},
     "output_type": "execute_result"
    }
   ],
   "source": [
    "x.bit_count()"
   ]
  },
  {
   "cell_type": "code",
   "execution_count": 104,
   "id": "8228840e-849d-4d8a-9228-0ab80b4d4355",
   "metadata": {},
   "outputs": [
    {
     "data": {
      "text/plain": [
       "(10, 1)"
      ]
     },
     "execution_count": 104,
     "metadata": {},
     "output_type": "execute_result"
    }
   ],
   "source": [
    "x.as_integer_ratio()"
   ]
  },
  {
   "cell_type": "code",
   "execution_count": 117,
   "id": "a57d696b-f0a2-4a7f-ba71-8f992735c654",
   "metadata": {},
   "outputs": [
    {
     "name": "stdout",
     "output_type": "stream",
     "text": [
      "['__add__', '__class__', '__contains__', '__delattr__', '__dir__', '__doc__', '__eq__', '__format__', '__ge__', '__getattribute__', '__getitem__', '__getnewargs__', '__getstate__', '__gt__', '__hash__', '__init__', '__init_subclass__', '__iter__', '__le__', '__len__', '__lt__', '__mod__', '__mul__', '__ne__', '__new__', '__reduce__', '__reduce_ex__', '__repr__', '__rmod__', '__rmul__', '__setattr__', '__sizeof__', '__str__', '__subclasshook__', 'capitalize', 'casefold', 'center', 'count', 'encode', 'endswith', 'expandtabs', 'find', 'format', 'format_map', 'index', 'isalnum', 'isalpha', 'isascii', 'isdecimal', 'isdigit', 'isidentifier', 'islower', 'isnumeric', 'isprintable', 'isspace', 'istitle', 'isupper', 'join', 'ljust', 'lower', 'lstrip', 'maketrans', 'partition', 'removeprefix', 'removesuffix', 'replace', 'rfind', 'rindex', 'rjust', 'rpartition', 'rsplit', 'rstrip', 'split', 'splitlines', 'startswith', 'strip', 'swapcase', 'title', 'translate', 'upper', 'zfill']\n"
     ]
    }
   ],
   "source": [
    "y = \"***it's a string***\"\n",
    "print( dir(y) )"
   ]
  },
  {
   "cell_type": "code",
   "execution_count": 118,
   "id": "f62cbc18-ca82-4961-9a63-3456977ff1d3",
   "metadata": {},
   "outputs": [
    {
     "data": {
      "text/plain": [
       "[\"***it's\", 'a', 'string***']"
      ]
     },
     "execution_count": 118,
     "metadata": {},
     "output_type": "execute_result"
    }
   ],
   "source": [
    "y.split()"
   ]
  },
  {
   "cell_type": "code",
   "execution_count": 119,
   "id": "ef7f5589-b7f7-4c21-a8a1-5779f6ff4202",
   "metadata": {},
   "outputs": [
    {
     "data": {
      "text/plain": [
       "\"***It'S A String***\""
      ]
     },
     "execution_count": 119,
     "metadata": {},
     "output_type": "execute_result"
    }
   ],
   "source": [
    "y.title()"
   ]
  },
  {
   "cell_type": "code",
   "execution_count": 120,
   "id": "fc837231-825a-46a1-a934-df4ad43206df",
   "metadata": {},
   "outputs": [
    {
     "data": {
      "text/plain": [
       "\"***it's a string***\""
      ]
     },
     "execution_count": 120,
     "metadata": {},
     "output_type": "execute_result"
    }
   ],
   "source": [
    "y.lower()"
   ]
  },
  {
   "cell_type": "code",
   "execution_count": 121,
   "id": "f9b1cb10-da5f-4501-90b8-23c8d189c3da",
   "metadata": {},
   "outputs": [
    {
     "data": {
      "text/plain": [
       "\"***IT'S A STRING***\""
      ]
     },
     "execution_count": 121,
     "metadata": {},
     "output_type": "execute_result"
    }
   ],
   "source": [
    "y.upper()"
   ]
  },
  {
   "cell_type": "code",
   "execution_count": 122,
   "id": "e68b6898-2121-448d-834b-3a388863e40f",
   "metadata": {},
   "outputs": [
    {
     "data": {
      "text/plain": [
       "\"                                        ***it's a string***                                         \""
      ]
     },
     "execution_count": 122,
     "metadata": {},
     "output_type": "execute_result"
    }
   ],
   "source": [
    "y.center(100)"
   ]
  },
  {
   "cell_type": "code",
   "execution_count": 124,
   "id": "0eb5ce22-b891-4b2b-b469-dd2005228cbf",
   "metadata": {},
   "outputs": [
    {
     "data": {
      "text/plain": [
       "\"it's a string\""
      ]
     },
     "execution_count": 124,
     "metadata": {},
     "output_type": "execute_result"
    }
   ],
   "source": [
    "y.strip(\"*\")"
   ]
  },
  {
   "cell_type": "markdown",
   "id": "9fa9f518-faa4-4076-bbc0-d881a24c79f9",
   "metadata": {},
   "source": [
    "### hasattr(); getattr(); setattr(); delattr()"
   ]
  },
  {
   "cell_type": "code",
   "execution_count": 125,
   "id": "8a451067-c26e-4a53-ad9f-5dab3fa9e8e2",
   "metadata": {},
   "outputs": [],
   "source": [
    "class MyClass:\n",
    "    def __init__(self):\n",
    "        self.x = 10\n",
    "\n",
    "obj = MyClass()"
   ]
  },
  {
   "cell_type": "code",
   "execution_count": 126,
   "id": "7b970a13-52d6-4f65-a8ad-5435f9ee22df",
   "metadata": {},
   "outputs": [
    {
     "data": {
      "text/plain": [
       "True"
      ]
     },
     "execution_count": 126,
     "metadata": {},
     "output_type": "execute_result"
    }
   ],
   "source": [
    "hasattr(obj, \"x\")"
   ]
  },
  {
   "cell_type": "code",
   "execution_count": 127,
   "id": "b911874c-72a9-4cde-a36b-3be4c99eb092",
   "metadata": {},
   "outputs": [
    {
     "data": {
      "text/plain": [
       "False"
      ]
     },
     "execution_count": 127,
     "metadata": {},
     "output_type": "execute_result"
    }
   ],
   "source": [
    "hasattr(obj, \"y\")"
   ]
  },
  {
   "cell_type": "code",
   "execution_count": 128,
   "id": "d97f939d-226a-453c-a61c-b01bd0de993c",
   "metadata": {},
   "outputs": [
    {
     "data": {
      "text/plain": [
       "10"
      ]
     },
     "execution_count": 128,
     "metadata": {},
     "output_type": "execute_result"
    }
   ],
   "source": [
    "getattr(obj,\"x\")"
   ]
  },
  {
   "cell_type": "code",
   "execution_count": 132,
   "id": "227c995c-c1ad-40cc-84fd-2a7d78a3eeba",
   "metadata": {},
   "outputs": [
    {
     "data": {
      "text/plain": [
       "20"
      ]
     },
     "execution_count": 132,
     "metadata": {},
     "output_type": "execute_result"
    }
   ],
   "source": [
    "setattr(obj,\"y\", 20)\n",
    "obj.y"
   ]
  },
  {
   "cell_type": "code",
   "execution_count": 133,
   "id": "7d9cfdcf-4c0d-48ff-b7f8-85294760871f",
   "metadata": {},
   "outputs": [
    {
     "data": {
      "text/plain": [
       "True"
      ]
     },
     "execution_count": 133,
     "metadata": {},
     "output_type": "execute_result"
    }
   ],
   "source": [
    "hasattr(obj,\"y\")"
   ]
  },
  {
   "cell_type": "code",
   "execution_count": 135,
   "id": "cb77c604-a66a-4434-af05-664068c25bf7",
   "metadata": {},
   "outputs": [],
   "source": [
    "delattr(obj,\"y\")"
   ]
  },
  {
   "cell_type": "code",
   "execution_count": 136,
   "id": "017b5745-0937-4c85-a01c-e4feadd75cf2",
   "metadata": {},
   "outputs": [
    {
     "data": {
      "text/plain": [
       "False"
      ]
     },
     "execution_count": 136,
     "metadata": {},
     "output_type": "execute_result"
    }
   ],
   "source": [
    "hasattr(obj,\"y\")"
   ]
  },
  {
   "cell_type": "markdown",
   "id": "a11fed51-a773-4094-bbcd-b0821af804ed",
   "metadata": {
    "jp-MarkdownHeadingCollapsed": true
   },
   "source": [
    "## 6. String Manipulation Functions\n",
    "- **Purpose**: Work with strings and object representations\n",
    "- **Functions**:\n",
    "    - str(); repr()\n",
    "    - format()\n",
    "    - ascii()\n",
    "    - chr(); ord()"
   ]
  },
  {
   "cell_type": "markdown",
   "id": "17265278-e0b8-477a-b316-b78e19674614",
   "metadata": {},
   "source": [
    "### str(); repr()"
   ]
  },
  {
   "cell_type": "code",
   "execution_count": 137,
   "id": "3e8b08dc-bcee-4238-8aa4-bcd69b7331b9",
   "metadata": {},
   "outputs": [
    {
     "data": {
      "text/plain": [
       "'10'"
      ]
     },
     "execution_count": 137,
     "metadata": {},
     "output_type": "execute_result"
    }
   ],
   "source": [
    "str(10)"
   ]
  },
  {
   "cell_type": "code",
   "execution_count": 138,
   "id": "6d477128-0bdc-4ab0-aca6-28cf9229a715",
   "metadata": {},
   "outputs": [
    {
     "data": {
      "text/plain": [
       "'[1, 2, 3]'"
      ]
     },
     "execution_count": 138,
     "metadata": {},
     "output_type": "execute_result"
    }
   ],
   "source": [
    "str([1,2,3])"
   ]
  },
  {
   "cell_type": "code",
   "execution_count": 140,
   "id": "b57bfadb-0d1d-4e6f-a15d-65874d19e355",
   "metadata": {},
   "outputs": [
    {
     "data": {
      "text/plain": [
       "'10'"
      ]
     },
     "execution_count": 140,
     "metadata": {},
     "output_type": "execute_result"
    }
   ],
   "source": [
    "repr(10)"
   ]
  },
  {
   "cell_type": "code",
   "execution_count": 141,
   "id": "b2b6cde2-f429-49d8-8738-312558f4681a",
   "metadata": {
    "scrolled": true
   },
   "outputs": [
    {
     "data": {
      "text/plain": [
       "'[1, 2, 3]'"
      ]
     },
     "execution_count": 141,
     "metadata": {},
     "output_type": "execute_result"
    }
   ],
   "source": [
    "repr([1,2,3])"
   ]
  },
  {
   "cell_type": "markdown",
   "id": "4db85306-d827-47a4-aea1-2408ee5db57c",
   "metadata": {},
   "source": [
    "### format()"
   ]
  },
  {
   "cell_type": "code",
   "execution_count": 5,
   "id": "845c4ffa-0e98-4bbc-af18-63b382402e18",
   "metadata": {},
   "outputs": [
    {
     "name": "stdout",
     "output_type": "stream",
     "text": [
      "My name is Ana\n",
      "My name is Miguel\n"
     ]
    }
   ],
   "source": [
    "name = \"Ana\"\n",
    "print(\"My name is {}\".format(name))\n",
    "\n",
    "print(\"My name is {other_name}\".format(other_name=\"Miguel\"))"
   ]
  },
  {
   "cell_type": "code",
   "execution_count": 2,
   "id": "05e99b3a-f0ff-44d6-8873-dc898b47cfda",
   "metadata": {},
   "outputs": [],
   "source": [
    "# Other ways"
   ]
  },
  {
   "cell_type": "code",
   "execution_count": 3,
   "id": "6d1e5119-866b-4c36-b92e-cea45877e953",
   "metadata": {},
   "outputs": [
    {
     "name": "stdout",
     "output_type": "stream",
     "text": [
      "My name is Ana\n"
     ]
    }
   ],
   "source": [
    "name = \"Ana\"\n",
    "print(f\"My name is {name}\")"
   ]
  },
  {
   "cell_type": "code",
   "execution_count": 4,
   "id": "6ebafde8-5be9-44b8-ac3a-2ab3978d09b2",
   "metadata": {},
   "outputs": [
    {
     "name": "stdout",
     "output_type": "stream",
     "text": [
      "My name is Ana\n"
     ]
    }
   ],
   "source": [
    "name = \"Ana\"\n",
    "print(\"My name is %s\"%(name))"
   ]
  },
  {
   "cell_type": "markdown",
   "id": "f0226d4c-a413-460c-9ef3-8f7e3070daa6",
   "metadata": {},
   "source": [
    "### ascii()"
   ]
  },
  {
   "cell_type": "code",
   "execution_count": 6,
   "id": "821966da-9353-4ae1-83aa-94236f1aceac",
   "metadata": {},
   "outputs": [
    {
     "data": {
      "text/plain": [
       "\"'Ol\\\\xe1 Mundo!'\""
      ]
     },
     "execution_count": 6,
     "metadata": {},
     "output_type": "execute_result"
    }
   ],
   "source": [
    "ascii(\"Olá Mundo!\")"
   ]
  },
  {
   "cell_type": "markdown",
   "id": "ac46fa64-9f4b-44a1-94e0-0d56ca4abb43",
   "metadata": {},
   "source": [
    "### chr()"
   ]
  },
  {
   "cell_type": "code",
   "execution_count": 8,
   "id": "c414b18e-9314-49ca-857c-98aa1cf7e3c9",
   "metadata": {},
   "outputs": [
    {
     "data": {
      "text/plain": [
       "'a'"
      ]
     },
     "execution_count": 8,
     "metadata": {},
     "output_type": "execute_result"
    }
   ],
   "source": [
    "chr(97) # Convert unicode (integer number) in the respective character"
   ]
  },
  {
   "cell_type": "markdown",
   "id": "a5301b7c-828e-4acd-8e8d-5e55fc3e2f8e",
   "metadata": {},
   "source": [
    "### ord()"
   ]
  },
  {
   "cell_type": "code",
   "execution_count": 9,
   "id": "7fe73a8b-f602-4d3f-9eb2-6517f691a540",
   "metadata": {},
   "outputs": [
    {
     "data": {
      "text/plain": [
       "97"
      ]
     },
     "execution_count": 9,
     "metadata": {},
     "output_type": "execute_result"
    }
   ],
   "source": [
    "ord(\"a\")"
   ]
  },
  {
   "cell_type": "markdown",
   "id": "3f2931f9-7d68-441d-9dea-4e71d966099f",
   "metadata": {},
   "source": [
    "## 7. Iterator and Generator Manipulation Functions\n",
    "- **Purpose**: Create or manipulate iterators and generators\n",
    "- **Functions**:\n",
    "    - iter()\n",
    "    - next()\n",
    "    - range()\n",
    "    - reversed()"
   ]
  },
  {
   "cell_type": "markdown",
   "id": "93e1e674-0e87-4ef6-8c07-08274c80919c",
   "metadata": {},
   "source": [
    "### iter(), next()"
   ]
  },
  {
   "cell_type": "code",
   "execution_count": 10,
   "id": "30aa4615-e48a-42cd-99e7-8e8a37d453bc",
   "metadata": {},
   "outputs": [
    {
     "name": "stdout",
     "output_type": "stream",
     "text": [
      "1\n"
     ]
    }
   ],
   "source": [
    "my_list = [1,2,3,4]\n",
    "it = iter(my_list)\n",
    "print(next(it))"
   ]
  },
  {
   "cell_type": "code",
   "execution_count": 11,
   "id": "396b9416-955e-4b21-a98c-33925bed0a3d",
   "metadata": {},
   "outputs": [
    {
     "name": "stdout",
     "output_type": "stream",
     "text": [
      "2\n"
     ]
    }
   ],
   "source": [
    "print(next(it))"
   ]
  },
  {
   "cell_type": "code",
   "execution_count": 15,
   "id": "37fd5301-30ee-4f24-af67-8872f9575e90",
   "metadata": {},
   "outputs": [
    {
     "name": "stdout",
     "output_type": "stream",
     "text": [
      "1\n",
      "2\n",
      "3\n",
      "4\n"
     ]
    }
   ],
   "source": [
    "# Example with Object\n",
    "\n",
    "class Counter:\n",
    "    def __init__(self, start, end):\n",
    "        self.current = start\n",
    "        self.end = end\n",
    "    def __iter__(self):\n",
    "        return self\n",
    "\n",
    "    def __next__(self):\n",
    "        if self.current >= self.end:\n",
    "            raise StopIteration\n",
    "        self.current +=1\n",
    "        return self.current - 1\n",
    "counter = Counter(1,5)\n",
    "\n",
    "for num in counter:\n",
    "    print(num)"
   ]
  },
  {
   "cell_type": "markdown",
   "id": "d6919da4-6463-4792-9ab7-4192d68779c5",
   "metadata": {},
   "source": [
    "### range(); reversed"
   ]
  },
  {
   "cell_type": "code",
   "execution_count": 22,
   "id": "c1ac5f55-cee4-44e5-87f8-ac36886a34ab",
   "metadata": {},
   "outputs": [
    {
     "name": "stdout",
     "output_type": "stream",
     "text": [
      "0\n",
      "2\n",
      "4\n",
      "6\n",
      "8\n"
     ]
    }
   ],
   "source": [
    "for i in range(0,10,2):\n",
    "    print(i)"
   ]
  },
  {
   "cell_type": "code",
   "execution_count": 23,
   "id": "779a0ee1-da60-4bf8-ab34-0ed46ad8e26a",
   "metadata": {},
   "outputs": [
    {
     "name": "stdout",
     "output_type": "stream",
     "text": [
      "8\n",
      "6\n",
      "4\n",
      "2\n",
      "0\n"
     ]
    }
   ],
   "source": [
    "for i in reversed(range(0,10,2)):\n",
    "    print(i)"
   ]
  },
  {
   "cell_type": "code",
   "execution_count": 26,
   "id": "a410d687-4cd2-44f0-8428-4fd39e6b5534",
   "metadata": {},
   "outputs": [
    {
     "name": "stdout",
     "output_type": "stream",
     "text": [
      "['a', 'b', 'c']\n",
      "['c', 'b', 'a']\n"
     ]
    }
   ],
   "source": [
    "x = [\"a\",\"b\",\"c\"]\n",
    "\n",
    "print(x)\n",
    "print(\n",
    "    list(\n",
    "        reversed(x)\n",
    "    )\n",
    ")\n"
   ]
  },
  {
   "cell_type": "code",
   "execution_count": 30,
   "id": "b77cf882-fc78-471b-81cd-f625c5161405",
   "metadata": {},
   "outputs": [
    {
     "name": "stdout",
     "output_type": "stream",
     "text": [
      "0\n",
      "1\n"
     ]
    }
   ],
   "source": [
    "x = iter(range(10))\n",
    "print(next(x))\n",
    "print(next(x))"
   ]
  },
  {
   "cell_type": "code",
   "execution_count": 33,
   "id": "6b8c4f60-da13-417c-baa9-0d3f044e9405",
   "metadata": {},
   "outputs": [
    {
     "data": {
      "text/plain": [
       "'n-o-h-t-y-P'"
      ]
     },
     "execution_count": 33,
     "metadata": {},
     "output_type": "execute_result"
    }
   ],
   "source": [
    "\"-\".join(reversed(\"Python\"))"
   ]
  },
  {
   "cell_type": "code",
   "execution_count": 36,
   "id": "1443cb1d-f960-4f2a-ae9e-1cdd7d1acc3a",
   "metadata": {},
   "outputs": [
    {
     "data": {
      "text/plain": [
       "'n'"
      ]
     },
     "execution_count": 36,
     "metadata": {},
     "output_type": "execute_result"
    }
   ],
   "source": [
    "x = reversed(\"Python\")\n",
    "next(x)"
   ]
  },
  {
   "cell_type": "code",
   "execution_count": null,
   "id": "86b2bbc1-1a22-4ea9-b355-8ef2a059e413",
   "metadata": {},
   "outputs": [],
   "source": []
  },
  {
   "cell_type": "code",
   "execution_count": null,
   "id": "e3b1dae6-d5d5-4756-b906-a6d22144c40f",
   "metadata": {},
   "outputs": [],
   "source": []
  },
  {
   "cell_type": "markdown",
   "id": "e01ee983-b3c5-4bff-8b1e-1af13e1892cc",
   "metadata": {},
   "source": [
    "## 8. Memory and System Manipulation Functions\n",
    "- **Purpose**: Work with memory and low-level system aspects\n",
    "- **Functions**:\n",
    "    - memoryview()\n",
    "    - hash()\n",
    "    - object()\n",
    "    - del(); delattr()"
   ]
  },
  {
   "cell_type": "markdown",
   "id": "010912a2-9293-4e4e-aa0b-2dd8c214df1f",
   "metadata": {},
   "source": [
    "### memoryview()"
   ]
  },
  {
   "cell_type": "code",
   "execution_count": 50,
   "id": "62cda895-3452-4643-ad3f-212850ab4192",
   "metadata": {},
   "outputs": [
    {
     "data": {
      "text/plain": [
       "bytearray(b'Hello')"
      ]
     },
     "execution_count": 50,
     "metadata": {},
     "output_type": "execute_result"
    }
   ],
   "source": [
    "# example withou memoryview\n",
    "\n",
    "data = bytearray(b\"Hello, World!\")\n",
    "slice_of_data = data[0:5]  # This create a copy of the first 5 bytes\n",
    "slice_of_data"
   ]
  },
  {
   "cell_type": "code",
   "execution_count": 52,
   "id": "c0f29432-25b3-49fd-b453-bb7f3ec0a7d9",
   "metadata": {},
   "outputs": [
    {
     "data": {
      "text/plain": [
       "<memory at 0x79df6c542680>"
      ]
     },
     "execution_count": 52,
     "metadata": {},
     "output_type": "execute_result"
    }
   ],
   "source": [
    "data = bytearray(b\"Hello, World!\")\n",
    "mv = memoryview(data)\n",
    "slice_of_data = mv[0:5]  # no copy here\n",
    "slice_of_data\n",
    "\n",
    "# In this case slice of data isn't a copy of slice \n"
   ]
  },
  {
   "cell_type": "markdown",
   "id": "ebb84327-3c16-4788-9f3d-50770aa23d8b",
   "metadata": {},
   "source": [
    "### hash()\n",
    "\n",
    "Only imutable objects like number, string and tuples... list and dictionaries won't accept hash()"
   ]
  },
  {
   "cell_type": "code",
   "execution_count": 1,
   "id": "ab0c66c8-8f44-4430-bff1-d7a653459eac",
   "metadata": {},
   "outputs": [
    {
     "data": {
      "text/plain": [
       "-2871512425196704631"
      ]
     },
     "execution_count": 1,
     "metadata": {},
     "output_type": "execute_result"
    }
   ],
   "source": [
    "hash(\"hello\")"
   ]
  },
  {
   "cell_type": "code",
   "execution_count": 2,
   "id": "60ca2da9-0867-4309-b168-c750d206d5bd",
   "metadata": {},
   "outputs": [
    {
     "data": {
      "text/plain": [
       "42"
      ]
     },
     "execution_count": 2,
     "metadata": {},
     "output_type": "execute_result"
    }
   ],
   "source": [
    "hash(42)"
   ]
  },
  {
   "cell_type": "code",
   "execution_count": 4,
   "id": "8cccfad9-9e6c-47ae-a6f2-f9ad3e6ecdce",
   "metadata": {},
   "outputs": [
    {
     "data": {
      "text/plain": [
       "529344067295497451"
      ]
     },
     "execution_count": 4,
     "metadata": {},
     "output_type": "execute_result"
    }
   ],
   "source": [
    "hash((1,2,3))"
   ]
  },
  {
   "cell_type": "markdown",
   "id": "000ba663-0a6d-4b01-8056-096017465dd5",
   "metadata": {},
   "source": [
    "### object()"
   ]
  },
  {
   "cell_type": "code",
   "execution_count": 7,
   "id": "efefcebc-87e0-4a36-b269-9394d5e91adc",
   "metadata": {},
   "outputs": [
    {
     "name": "stdout",
     "output_type": "stream",
     "text": [
      "<object object at 0x7ea0e4339ec0>\n"
     ]
    }
   ],
   "source": [
    "obj = object()\n",
    "print(obj)"
   ]
  },
  {
   "cell_type": "code",
   "execution_count": 12,
   "id": "3a895131-08b9-461a-b4bf-2f70ba9d1a5d",
   "metadata": {},
   "outputs": [
    {
     "data": {
      "text/plain": [
       "True"
      ]
     },
     "execution_count": 12,
     "metadata": {},
     "output_type": "execute_result"
    }
   ],
   "source": [
    "class MyClass(object): # whatever use that, it already come built-in\n",
    "    pass\n",
    "\n",
    "instance = MyClass()\n",
    "isinstance(instance, object)"
   ]
  },
  {
   "cell_type": "code",
   "execution_count": 11,
   "id": "4425aa25-f38d-495c-8173-e1ba0ebaaa20",
   "metadata": {},
   "outputs": [
    {
     "data": {
      "text/plain": [
       "True"
      ]
     },
     "execution_count": 11,
     "metadata": {},
     "output_type": "execute_result"
    }
   ],
   "source": [
    "class MyClass():\n",
    "    pass\n",
    "\n",
    "instance = MyClass()\n",
    "isinstance(instance, object)"
   ]
  },
  {
   "cell_type": "markdown",
   "id": "93efec33-e493-4b6a-bfa8-e2dfbac66e35",
   "metadata": {},
   "source": [
    "### del(), delattr()\n",
    "\n",
    "It can free up the memory that the object was using. This is useful in several scenarios:\n",
    "\n",
    "**Freeing Memory**: By deleting references to large objects or data structures no longer needed, you can free up memory, which is especially important in environments with limited resources.\n",
    "\n",
    "**Avoiding Memory Leaks**: In complex programs, unintentional circular references (e.g., objects that reference each other) can prevent Python's garbage collector from freeing memory. Using del helps break these reference cycles, allowing memory to be reclaimed.\n",
    "\n",
    "**Clean Up**: You might want to ensure certain variables or objects are removed before moving on to other parts of your program to keep the namespace clean or reset the environment.\n",
    "\n",
    "In summary, del is used to manage memory and resources more effectively in Python."
   ]
  },
  {
   "cell_type": "code",
   "execution_count": 20,
   "id": "3d60c513-9acf-401d-b99e-7295d3356289",
   "metadata": {},
   "outputs": [
    {
     "name": "stdout",
     "output_type": "stream",
     "text": [
      "10\n"
     ]
    }
   ],
   "source": [
    "x = 10\n",
    "print(10)\n",
    "del x\n",
    "# x # NameError"
   ]
  },
  {
   "cell_type": "code",
   "execution_count": 22,
   "id": "21f81b37-1918-40d0-99bd-e226e15cd44e",
   "metadata": {},
   "outputs": [
    {
     "data": {
      "text/plain": [
       "100"
      ]
     },
     "execution_count": 22,
     "metadata": {},
     "output_type": "execute_result"
    }
   ],
   "source": [
    "class MyClass(object):\n",
    "    def __init__(self):\n",
    "        self.test = 100\n",
    "\n",
    "instance = MyClass()\n",
    "instance.test"
   ]
  },
  {
   "cell_type": "code",
   "execution_count": 23,
   "id": "0bed991f-d626-414b-bed2-43c641b00ccb",
   "metadata": {},
   "outputs": [],
   "source": [
    "delattr(instance, \"test\")\n",
    "# instance.test #(AttributeError)"
   ]
  },
  {
   "cell_type": "markdown",
   "id": "4036235b-961b-4eeb-8378-186afbdfbb49",
   "metadata": {},
   "source": [
    "## 9. Miscellaneous Functions (Funções Diversas)\n",
    "- **Purpose**: Other functions\n",
    "- **Functions**:\n",
    "    - help(); globals(); locals()\n",
    "    - eval(); exec(); compile()\n",
    "    - super()\n",
    "    - staticmethod(); classmethod()\n",
    "    - property()"
   ]
  },
  {
   "cell_type": "markdown",
   "id": "0d91781c-ffe5-462f-b624-6f8c225aad82",
   "metadata": {},
   "source": [
    "### help(); globals(); locals()"
   ]
  },
  {
   "cell_type": "code",
   "execution_count": 24,
   "id": "ceba99d6-4e9d-439d-a537-a438c0914628",
   "metadata": {},
   "outputs": [
    {
     "name": "stdout",
     "output_type": "stream",
     "text": [
      "Help on built-in function print in module builtins:\n",
      "\n",
      "print(*args, sep=' ', end='\\n', file=None, flush=False)\n",
      "    Prints the values to a stream, or to sys.stdout by default.\n",
      "    \n",
      "    sep\n",
      "      string inserted between values, default a space.\n",
      "    end\n",
      "      string appended after the last value, default a newline.\n",
      "    file\n",
      "      a file-like object (stream); defaults to the current sys.stdout.\n",
      "    flush\n",
      "      whether to forcibly flush the stream.\n",
      "\n"
     ]
    }
   ],
   "source": [
    "help(print)"
   ]
  },
  {
   "cell_type": "code",
   "execution_count": 26,
   "id": "4eb8a073-ccc0-4038-8604-e895253e47cc",
   "metadata": {},
   "outputs": [
    {
     "data": {
      "text/plain": [
       "10"
      ]
     },
     "execution_count": 26,
     "metadata": {},
     "output_type": "execute_result"
    }
   ],
   "source": [
    "x = 10\n",
    "globals()[\"x\"]"
   ]
  },
  {
   "cell_type": "code",
   "execution_count": 29,
   "id": "e2661896-aebf-4a4f-9d5f-0aee2e91ed7c",
   "metadata": {},
   "outputs": [
    {
     "data": {
      "text/plain": [
       "20"
      ]
     },
     "execution_count": 29,
     "metadata": {},
     "output_type": "execute_result"
    }
   ],
   "source": [
    "globals()[\"x\"]=20\n",
    "x"
   ]
  },
  {
   "cell_type": "code",
   "execution_count": 32,
   "id": "65b2f174-de19-487a-a433-5604efa09e2a",
   "metadata": {},
   "outputs": [
    {
     "name": "stdout",
     "output_type": "stream",
     "text": [
      "{'y': 5}\n"
     ]
    }
   ],
   "source": [
    "#locals()\n",
    "\n",
    "def my_functions():\n",
    "    y = 5\n",
    "    print(locals())\n",
    "\n",
    "my_functions()"
   ]
  },
  {
   "cell_type": "markdown",
   "id": "b0baa1a9-133c-4918-9f57-c7e4f58af137",
   "metadata": {},
   "source": [
    "### eval(); execute(); compile()\n",
    "\n",
    "IMPORTANT: **eval()** May execute **malicious code** if used on untrusted inputs."
   ]
  },
  {
   "cell_type": "code",
   "execution_count": 33,
   "id": "956738cf-6fb6-4df7-8e93-8e1626228b36",
   "metadata": {},
   "outputs": [
    {
     "data": {
      "text/plain": [
       "[1, 2, 3, 4]"
      ]
     },
     "execution_count": 33,
     "metadata": {},
     "output_type": "execute_result"
    }
   ],
   "source": [
    "expr = \"[1,2,3,4]\"\n",
    "list_ = eval(expr)\n",
    "list_"
   ]
  },
  {
   "cell_type": "code",
   "execution_count": 34,
   "id": "ba584e91-8bc5-4156-b16f-b2af18c0d838",
   "metadata": {},
   "outputs": [
    {
     "data": {
      "text/plain": [
       "2"
      ]
     },
     "execution_count": 34,
     "metadata": {},
     "output_type": "execute_result"
    }
   ],
   "source": [
    "list_[1]"
   ]
  },
  {
   "cell_type": "code",
   "execution_count": 35,
   "id": "20a05380-4bc6-4369-a8d3-c0b49ef0c1c1",
   "metadata": {},
   "outputs": [
    {
     "data": {
      "text/plain": [
       "3"
      ]
     },
     "execution_count": 35,
     "metadata": {},
     "output_type": "execute_result"
    }
   ],
   "source": [
    "eval(\"1+2\")"
   ]
  },
  {
   "cell_type": "code",
   "execution_count": 36,
   "id": "deb2a534-f740-488c-a763-3358b298f2da",
   "metadata": {},
   "outputs": [
    {
     "name": "stdout",
     "output_type": "stream",
     "text": [
      "0\n",
      "1\n",
      "2\n",
      "3\n",
      "4\n"
     ]
    }
   ],
   "source": [
    "code = \"\"\"\n",
    "for x in range(0,5):\n",
    "    print(x)\n",
    "\"\"\"\n",
    "\n",
    "exec(code)"
   ]
  },
  {
   "cell_type": "code",
   "execution_count": 38,
   "id": "7b6b9f4d-4b4c-434f-875c-e21ad6ee8eae",
   "metadata": {},
   "outputs": [
    {
     "name": "stdout",
     "output_type": "stream",
     "text": [
      "15\n"
     ]
    }
   ],
   "source": [
    "code_str= \"x = 5\\ny=10\\nprint(x+y)\"\n",
    "code = compile(code_str,\"<string>\",\"exec\")\n",
    "exec(code)"
   ]
  },
  {
   "cell_type": "markdown",
   "id": "b49c44e7-44da-4f50-9e4c-3b84b72e6993",
   "metadata": {},
   "source": [
    "### super()"
   ]
  },
  {
   "cell_type": "code",
   "execution_count": 40,
   "id": "a96f775d-551d-4e57-b1ee-62fb8b328e3a",
   "metadata": {},
   "outputs": [
    {
     "name": "stdout",
     "output_type": "stream",
     "text": [
      "Hello from Parent\n",
      "Hello from Child\n"
     ]
    }
   ],
   "source": [
    "class Parent:\n",
    "    def greet(self):\n",
    "        print(\"Hello from Parent\")\n",
    "\n",
    "class Child(Parent):\n",
    "    def greet(self):\n",
    "        super().greet()\n",
    "        print(\"Hello from Child\")\n",
    "\n",
    "c = Child()\n",
    "\n",
    "c.greet()"
   ]
  },
  {
   "cell_type": "markdown",
   "id": "618b1133-51a1-465e-b8fd-2274f172b150",
   "metadata": {},
   "source": [
    "## 10. Modifying class state\n",
    "- @staticmethod\n",
    "- @classmethod\n",
    "- @property"
   ]
  },
  {
   "cell_type": "markdown",
   "id": "6d0981da-97b6-4f1f-acff-182e68dce382",
   "metadata": {},
   "source": [
    "### @staticmethod\n",
    "\n",
    "Define a method that does not operate on an INSTANCE or CLASS LEVEL... It doesn't need **self**... it's more like a `function than a method`"
   ]
  },
  {
   "cell_type": "code",
   "execution_count": 41,
   "id": "73849842-a2af-4e27-a41b-d50e8f511c7c",
   "metadata": {},
   "outputs": [
    {
     "data": {
      "text/plain": [
       "15"
      ]
     },
     "execution_count": 41,
     "metadata": {},
     "output_type": "execute_result"
    }
   ],
   "source": [
    "class MathOperations:\n",
    "    @staticmethod\n",
    "    def add(x, y):\n",
    "        return x + y\n",
    "\n",
    "# Usage\n",
    "result = MathOperations.add(5, 10)\n",
    "result"
   ]
  },
  {
   "cell_type": "markdown",
   "id": "c5638be3-0da0-41ff-88fb-6649009449b0",
   "metadata": {},
   "source": [
    "### classmethod\n",
    "Defines a method that is bound to the `class` and **not the instance**"
   ]
  },
  {
   "cell_type": "code",
   "execution_count": 43,
   "id": "85a8e700-c8f3-4769-8e1a-8fbbb9bf99ce",
   "metadata": {},
   "outputs": [
    {
     "name": "stdout",
     "output_type": "stream",
     "text": [
      "2\n"
     ]
    }
   ],
   "source": [
    "class Employee:\n",
    "    employee_count = 0\n",
    "\n",
    "    def __init__(self, name):\n",
    "        self.name = name\n",
    "        Employee.employee_count += 1\n",
    "\n",
    "    @classmethod\n",
    "    def get_employee_count(cls):\n",
    "        return cls.employee_count\n",
    "\n",
    "# Usage\n",
    "e1 = Employee('Alice')\n",
    "e2 = Employee('Bob')\n",
    "print(Employee.get_employee_count())  # Output: 2\n"
   ]
  },
  {
   "cell_type": "markdown",
   "id": "e9a24fb2-9497-41b3-8f28-aa5c3d560750",
   "metadata": {},
   "source": [
    "### property()\n",
    "\n",
    "Define methods for getting, setting, and deleting an attribute while keeping the attribute access syntax simple."
   ]
  },
  {
   "cell_type": "code",
   "execution_count": 44,
   "id": "8cbabd45-6b8f-47c5-834f-65537a3bf90f",
   "metadata": {},
   "outputs": [
    {
     "name": "stdout",
     "output_type": "stream",
     "text": [
      "37\n"
     ]
    }
   ],
   "source": [
    "class Celsius:\n",
    "    def __init__(self, temperature=0):\n",
    "        self._temperature = temperature\n",
    "\n",
    "    @property\n",
    "    def temperature(self):\n",
    "        return self._temperature\n",
    "\n",
    "    @temperature.setter\n",
    "    def temperature(self, value):\n",
    "        if value < -273.15:\n",
    "            raise ValueError(\"Temperature cannot be below absolute zero!\")\n",
    "        self._temperature = value\n",
    "\n",
    "# Usage\n",
    "c = Celsius()\n",
    "c.temperature = 37  # Calls the setter\n",
    "print(c.temperature)  # Calls the getter, Output: 37\n",
    "# c.temperature = -300  # Raises ValueError\n"
   ]
  },
  {
   "cell_type": "code",
   "execution_count": null,
   "id": "98f9fdf8-0dfc-45ac-b9d0-c566dafc8fb0",
   "metadata": {},
   "outputs": [],
   "source": []
  },
  {
   "cell_type": "code",
   "execution_count": null,
   "id": "b853fa38-8170-488d-8a75-7e4e70cbcae2",
   "metadata": {},
   "outputs": [],
   "source": []
  },
  {
   "cell_type": "markdown",
   "id": "3157b59b-b916-42ea-82eb-aa60323796ba",
   "metadata": {},
   "source": [
    "## 11. Exception Handling Functions\n",
    "- **Purpose**: Handle exceptions and errors\n",
    "- **Functions**:\n",
    "    - issubclass()\n",
    "    - BaseException(); Exception()"
   ]
  },
  {
   "cell_type": "markdown",
   "id": "15ca110b-fb13-423e-809d-7de8bc09bd63",
   "metadata": {},
   "source": [
    "### issubclass()\n",
    "\n",
    "Check if a class is a sub class of other"
   ]
  },
  {
   "cell_type": "code",
   "execution_count": 45,
   "id": "9f91a8f2-5c8a-44eb-8a30-ce62fc6ed439",
   "metadata": {},
   "outputs": [
    {
     "name": "stdout",
     "output_type": "stream",
     "text": [
      "True\n",
      "True\n",
      "False\n"
     ]
    }
   ],
   "source": [
    "class CustomError(Exception):\n",
    "    pass\n",
    "\n",
    "print(issubclass(CustomError, Exception))  # Output: True\n",
    "print(issubclass(CustomError, BaseException))  # Output: True\n",
    "print(issubclass(CustomError, ValueError))  # Output: False\n"
   ]
  },
  {
   "cell_type": "code",
   "execution_count": 50,
   "id": "49fba918-1a07-4bcc-ab67-6a4587a23b29",
   "metadata": {},
   "outputs": [
    {
     "name": "stdout",
     "output_type": "stream",
     "text": [
      "True\n",
      "False\n"
     ]
    }
   ],
   "source": [
    "class MyClassA():\n",
    "    def __init__(self):\n",
    "        pass\n",
    "\n",
    "class MyClassB(MyClassA):\n",
    "    def __init__(self):\n",
    "        pass\n",
    "\n",
    "print(issubclass(MyClassB, MyClassA))\n",
    "print(issubclass(MyClassA, MyClassB))"
   ]
  },
  {
   "cell_type": "code",
   "execution_count": null,
   "id": "eb2d9038-3086-4a99-9725-494ae51e1d31",
   "metadata": {},
   "outputs": [],
   "source": []
  }
 ],
 "metadata": {
  "kernelspec": {
   "display_name": "Python 3 (ipykernel)",
   "language": "python",
   "name": "python3"
  },
  "language_info": {
   "codemirror_mode": {
    "name": "ipython",
    "version": 3
   },
   "file_extension": ".py",
   "mimetype": "text/x-python",
   "name": "python",
   "nbconvert_exporter": "python",
   "pygments_lexer": "ipython3",
   "version": "3.11.9"
  }
 },
 "nbformat": 4,
 "nbformat_minor": 5
}
