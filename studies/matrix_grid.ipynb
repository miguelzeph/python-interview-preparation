{
 "cells": [
  {
   "cell_type": "markdown",
   "id": "c3441fd0-39f3-4495-a008-866d61250f55",
   "metadata": {},
   "source": [
    "# Matrix/Grid (nested List)\n",
    "\n",
    "These terms are often used to refer to a 2D array or 2D list. Both terms describe a rectangular arrangement of elements where data is stored in rows and columns"
   ]
  },
  {
   "cell_type": "code",
   "execution_count": 43,
   "id": "e5f70953-08b0-4a2b-b475-978fad1cc595",
   "metadata": {},
   "outputs": [],
   "source": [
    "grid = [\n",
    "    [1, 2, 3],\n",
    "    [4, 5, 6],\n",
    "    [7, 8, 9]\n",
    "]"
   ]
  },
  {
   "cell_type": "markdown",
   "id": "43895f2f-1538-42f4-b117-efd50f14e82c",
   "metadata": {},
   "source": [
    "### How to acess elements"
   ]
  },
  {
   "cell_type": "code",
   "execution_count": 9,
   "id": "a93973e1-8436-4d0e-9a67-26c4f12142b4",
   "metadata": {},
   "outputs": [
    {
     "data": {
      "text/plain": [
       "1"
      ]
     },
     "execution_count": 9,
     "metadata": {},
     "output_type": "execute_result"
    }
   ],
   "source": [
    "# grid[i][j] i=rows j=columns\n",
    "grid[0][0]"
   ]
  },
  {
   "cell_type": "code",
   "execution_count": 10,
   "id": "f45f49e9-6351-4126-9982-6eac0176f25c",
   "metadata": {},
   "outputs": [
    {
     "data": {
      "text/plain": [
       "9"
      ]
     },
     "execution_count": 10,
     "metadata": {},
     "output_type": "execute_result"
    }
   ],
   "source": [
    "max_row = len(grid[0])\n",
    "max_column = len(grid)\n",
    "\n",
    "grid[max_row-1][max_column-1]"
   ]
  },
  {
   "cell_type": "markdown",
   "id": "722a8602-8729-4684-9c6f-7ec00b7e71b4",
   "metadata": {},
   "source": [
    "### Interating over a Matrix"
   ]
  },
  {
   "cell_type": "code",
   "execution_count": 48,
   "id": "1868f3ab-1852-4f5a-9cd1-6eca9b3939ca",
   "metadata": {},
   "outputs": [
    {
     "name": "stdout",
     "output_type": "stream",
     "text": [
      "[1, 2, 3]\n",
      "[4, 5, 6]\n",
      "[7, 8, 9]\n"
     ]
    }
   ],
   "source": [
    "# Per rows\n",
    "\n",
    "for row in grid:\n",
    "    print(row)"
   ]
  },
  {
   "cell_type": "code",
   "execution_count": 18,
   "id": "3c9b9c06-9dba-4e09-8b59-aacd70606f12",
   "metadata": {},
   "outputs": [
    {
     "name": "stdout",
     "output_type": "stream",
     "text": [
      "1 2 3 \n",
      "4 5 6 \n",
      "7 8 9 \n"
     ]
    }
   ],
   "source": [
    "# Per Elements\n",
    "\n",
    "for row in grid:\n",
    "    for element in row:\n",
    "        print(element, end=\" \")\n",
    "    print()"
   ]
  },
  {
   "cell_type": "code",
   "execution_count": 44,
   "id": "93717df1-1a2a-469b-a6c0-fb36e3d4aae1",
   "metadata": {},
   "outputs": [
    {
     "name": "stdout",
     "output_type": "stream",
     "text": [
      "1 2 3 \n",
      "4 5 6 \n",
      "7 8 9 \n"
     ]
    }
   ],
   "source": [
    "# Per index\n",
    "for i in range(0,len(grid)):\n",
    "    for j in range(0,len(grid[i])):\n",
    "        print(grid[i][j], end=\" \")\n",
    "    print()"
   ]
  },
  {
   "cell_type": "markdown",
   "id": "ca188d62-4443-423e-a366-f678fab5821c",
   "metadata": {},
   "source": [
    "### Modifying Element"
   ]
  },
  {
   "cell_type": "code",
   "execution_count": 26,
   "id": "a5d23ab2-dede-4c95-92ff-d1d4d159e30a",
   "metadata": {},
   "outputs": [],
   "source": [
    "grid[0][0] = 9"
   ]
  },
  {
   "cell_type": "code",
   "execution_count": 28,
   "id": "8066e5a0-8ccc-4eb7-b8ba-e89a29c2b6f6",
   "metadata": {},
   "outputs": [
    {
     "name": "stdout",
     "output_type": "stream",
     "text": [
      "9 2 3 \n",
      "4 5 6 \n",
      "7 8 9 \n"
     ]
    }
   ],
   "source": [
    "for row in grid:\n",
    "    for element in row:\n",
    "        print(element, end=\" \")\n",
    "    print()"
   ]
  },
  {
   "cell_type": "markdown",
   "id": "83834da0-007d-482d-b4db-030fc44ed220",
   "metadata": {},
   "source": [
    "### Application Example"
   ]
  },
  {
   "cell_type": "markdown",
   "id": "8bde7151-3e29-444c-bb54-e663c8f454ab",
   "metadata": {},
   "source": [
    "Applying a simple filter to an image"
   ]
  },
  {
   "cell_type": "code",
   "execution_count": 47,
   "id": "4d42584e-b7fa-453d-bd43-b2002e860079",
   "metadata": {},
   "outputs": [
    {
     "name": "stdout",
     "output_type": "stream",
     "text": [
      "[110, 130, 140, 150, 160]\n",
      "[120, 140, 150, 160, 170]\n",
      "[130, 150, 160, 170, 180]\n",
      "[140, 160, 170, 180, 190]\n",
      "[150, 170, 180, 190, 200]\n"
     ]
    }
   ],
   "source": [
    "image = [\n",
    "    [100, 120, 130, 140, 150],\n",
    "    [110, 130, 140, 150, 160],\n",
    "    [120, 140, 150, 160, 170],\n",
    "    [130, 150, 160, 170, 180],\n",
    "    [140, 160, 170, 180, 190]\n",
    "] # 5x5\n",
    "\n",
    "# Brightness Increase value\n",
    "brightness_increase = 10\n",
    "\n",
    "# Increase brightness of each pixel\n",
    "for i in range(0,len(image)):\n",
    "    for j in range(0,len(image[i])):\n",
    "\n",
    "        # P.S. Ensure the value doesn't exceed 255\n",
    "        image[i][j] = min( image[i][j]+brightness_increase, 255 )\n",
    "\n",
    "for row in image:\n",
    "    print(row)\n",
    "    "
   ]
  },
  {
   "cell_type": "markdown",
   "id": "9d064210-712f-49b1-bbf9-b4b4e1a6b1e1",
   "metadata": {},
   "source": [
    "# Matrix/Grid (String)"
   ]
  },
  {
   "cell_type": "code",
   "execution_count": 34,
   "id": "9e723247-8b75-4241-ad7c-44bb4db07784",
   "metadata": {},
   "outputs": [],
   "source": [
    "grid = [\n",
    "    \"123\",\n",
    "    \"456\",\n",
    "    \"789\"\n",
    "]"
   ]
  },
  {
   "cell_type": "markdown",
   "id": "b7ee6e0f-47dc-401b-864d-47b1708c0763",
   "metadata": {},
   "source": [
    "### How to acess the elements"
   ]
  },
  {
   "cell_type": "code",
   "execution_count": 24,
   "id": "ee9d5f04-fc1a-4ea8-a79c-8d51cf5225da",
   "metadata": {
    "scrolled": true
   },
   "outputs": [
    {
     "data": {
      "text/plain": [
       "'2'"
      ]
     },
     "execution_count": 24,
     "metadata": {},
     "output_type": "execute_result"
    }
   ],
   "source": [
    "grid[0][1]"
   ]
  },
  {
   "cell_type": "code",
   "execution_count": 35,
   "id": "f6a6a6c2-aa8f-45c6-a9d4-0b8b21f761c6",
   "metadata": {},
   "outputs": [
    {
     "name": "stdout",
     "output_type": "stream",
     "text": [
      "1 2 3 \n",
      "4 5 6 \n",
      "7 8 9 \n"
     ]
    }
   ],
   "source": [
    "for row in grid:\n",
    "    for element in row:\n",
    "        print(element, end=\" \")\n",
    "    print()"
   ]
  },
  {
   "cell_type": "markdown",
   "id": "7ce5ae52-80b5-4c77-a5cb-bbcb1e9f57f3",
   "metadata": {},
   "source": [
    "### How to modify elements (DIFFERENT WITH STRINGS)\n",
    "Since strings in python are immutable, you need to convert the string to a list, make the modification, and then convert it back to string"
   ]
  },
  {
   "cell_type": "code",
   "execution_count": 42,
   "id": "4b1b809d-43c1-482f-8e3a-00b1e18e6048",
   "metadata": {},
   "outputs": [
    {
     "name": "stdout",
     "output_type": "stream",
     "text": [
      "123\n",
      "450\n",
      "789\n"
     ]
    }
   ],
   "source": [
    "# grind[0][1] = \"1\" #(DON'T WORK)\n",
    "\n",
    "row_as_list = list(grid[1])\n",
    "row_as_list[2] = \"0\"\n",
    "grid[1] = \"\".join(row_as_list)\n",
    "\n",
    "print(*grid, sep=\"\\n\")"
   ]
  },
  {
   "cell_type": "markdown",
   "id": "9833da81-b762-47fd-9e78-f7418b433067",
   "metadata": {},
   "source": [
    "### Application Example"
   ]
  },
  {
   "cell_type": "markdown",
   "id": "f2e261c8-0a6c-406a-836c-ba40e260287c",
   "metadata": {},
   "source": [
    "Word Search Puzzle Solver"
   ]
  },
  {
   "cell_type": "code",
   "execution_count": 50,
   "id": "a641f42c-4da3-47bd-9389-28f20f5ed1fc",
   "metadata": {},
   "outputs": [
    {
     "name": "stdout",
     "output_type": "stream",
     "text": [
      "Word 'efg' found in grid:True\n"
     ]
    }
   ],
   "source": [
    "# Example: Word Search Grid\n",
    "grid = [\n",
    "    \"abcd\",\n",
    "    \"efgh\",\n",
    "    \"ijkl\",\n",
    "    \"mnop\"\n",
    "]\n",
    "\n",
    "word = \"efg\"\n",
    "\n",
    "\n",
    "def find_word_in_grid(grid,word):\n",
    "    for row in grid:\n",
    "        if word in row:\n",
    "            return True\n",
    "    return False\n",
    "\n",
    "word_exists = find_word_in_grid(grid, word)\n",
    "print(f\"Word '{word}' found in grid:{word_exists}\")"
   ]
  },
  {
   "cell_type": "markdown",
   "id": "fd19883c-7562-487e-b7a1-9fcfa2bd4907",
   "metadata": {},
   "source": [
    "Maze game\n",
    "\n",
    "- \"#\" represents walls.\n",
    "\n",
    "- . represents open paths.\n",
    "\n",
    "- P represents the player.\n",
    "\n",
    "- E represents the exit."
   ]
  },
  {
   "cell_type": "code",
   "execution_count": 148,
   "id": "3b032d45-47e3-4764-b5ba-1b1911829dfc",
   "metadata": {},
   "outputs": [],
   "source": [
    "from IPython.display import clear_output\n",
    "\n",
    "maze = [\n",
    "    \"#######\",\n",
    "    \"#P....#\",\n",
    "    \"#.###.#\",\n",
    "    \"#...#.#\",\n",
    "    \"###.#E#\",\n",
    "    \"#######\"\n",
    "]\n",
    "\n",
    "def get_position(element ,maze):\n",
    "    for i, row in enumerate(maze):\n",
    "        find = row.find(element) # -1 not found\n",
    "\n",
    "        if find != -1:\n",
    "            player_pos = (i,find) # (x,y)\n",
    "            return player_pos\n",
    "    return None\n",
    "\n",
    "\n",
    "def display_maze(maze):\n",
    "    for row in maze:\n",
    "        print(row)\n",
    "    print()\n",
    "\n",
    "\n",
    "def move_player(maze, position, direction):\n",
    "    x,y = position\n",
    "    new_x,new_y = position\n",
    "\n",
    "    if direction == \"w\": # UP\n",
    "        new_x = x - 1\n",
    "    elif direction == \"s\": # DOWN\n",
    "        new_x = x + 1\n",
    "    elif direction == \"a\": # LEFT\n",
    "        new_y = y - 1\n",
    "    elif direction == \"d\": # RIGHT\n",
    "        new_y = y + 1\n",
    "\n",
    "    # Move\n",
    "    if maze[new_x][new_y] != \"#\":\n",
    "\n",
    "        # Replate old position with .\n",
    "        maze[x] = maze[x][:y] + \".\" + maze[x][y+1:]\n",
    "        \n",
    "        # Move Player new Position\n",
    "        maze[new_x] = maze[new_x][:new_y] + \"P\" + maze[new_x][new_y+1:]\n",
    "\n",
    "        position = (new_x, new_y)\n",
    "\n",
    "\n",
    "    return position\n",
    "\n",
    "        \n",
    "def play_game(maze, player_position, win_position):\n",
    "\n",
    "    display_maze(maze)\n",
    "\n",
    "    while player_position != win_position:\n",
    "        move = input(\"move: (w/a/s/d): \")\n",
    "        clear_output(wait=True)\n",
    "\n",
    "        if move not in ['w', 'a', 's', 'd']:\n",
    "            print(\"Invalid move! Use 'w' for up, 'a' for left, 's' for down, 'd' for right.\")\n",
    "            continue\n",
    "\n",
    "        player_position = move_player(maze,player_position, move)\n",
    "        display_maze(maze)\n",
    "        \n",
    "    print(\"CONGRATULATIONS!!!!\")\n"
   ]
  },
  {
   "cell_type": "code",
   "execution_count": 141,
   "id": "82f3ab6b-00f2-4db2-b930-fe68e5ad1e37",
   "metadata": {},
   "outputs": [
    {
     "data": {
      "text/plain": [
       "((1, 1), (4, 5))"
      ]
     },
     "execution_count": 141,
     "metadata": {},
     "output_type": "execute_result"
    }
   ],
   "source": [
    "player_position = get_position(\"P\",maze)\n",
    "win_position = get_position(\"E\",maze)\n",
    "\n",
    "player_position, win_position"
   ]
  },
  {
   "cell_type": "code",
   "execution_count": 142,
   "id": "fb8e5d82-322a-4ad7-a5c6-5b1081dfc405",
   "metadata": {
    "scrolled": true
   },
   "outputs": [
    {
     "name": "stdout",
     "output_type": "stream",
     "text": [
      "#######\n",
      "#P....#\n",
      "#.###.#\n",
      "#...#.#\n",
      "###.#E#\n",
      "#######\n",
      "\n"
     ]
    }
   ],
   "source": [
    "display_maze(maze)"
   ]
  },
  {
   "cell_type": "code",
   "execution_count": 133,
   "id": "3dc57186-c990-4f31-ae79-47d257ab3771",
   "metadata": {},
   "outputs": [
    {
     "data": {
      "text/plain": [
       "(2, 1)"
      ]
     },
     "execution_count": 133,
     "metadata": {},
     "output_type": "execute_result"
    }
   ],
   "source": [
    "move_player(\n",
    "    maze = maze,\n",
    "    position = get_position(\"P\",maze),\n",
    "    direction = \"d\"\n",
    ")"
   ]
  },
  {
   "cell_type": "code",
   "execution_count": 147,
   "id": "a0eaa2a2-c084-431a-b0a4-8095a56fcc90",
   "metadata": {},
   "outputs": [
    {
     "name": "stdout",
     "output_type": "stream",
     "text": [
      "#######\n",
      "#.....#\n",
      "#.###.#\n",
      "#...#.#\n",
      "###.#P#\n",
      "#######\n",
      "\n",
      "Congratulation\n"
     ]
    }
   ],
   "source": [
    "player_position = get_position(\"P\",maze)\n",
    "win_position = get_position(\"E\", maze)\n",
    "play_game(maze, player_position, win_position)"
   ]
  },
  {
   "cell_type": "markdown",
   "id": "4c524c9f-ea34-411a-b345-fda874d42595",
   "metadata": {},
   "source": [
    "# Conclusion"
   ]
  },
  {
   "cell_type": "markdown",
   "id": "bc0b0ff9-809b-48b1-bf3f-44236bb23fef",
   "metadata": {},
   "source": [
    "**Matrix (nested list)**\n",
    "- mutability: easy to modify indivudial elements, rows, columns\n",
    "- ease to access\n",
    "\n",
    "**Matrix (string)**\n",
    "- simplificty: if you don't need to modify indivual elements frequently\n",
    "- easy representation: access characters, grid-based games"
   ]
  }
 ],
 "metadata": {
  "kernelspec": {
   "display_name": "Python 3 (ipykernel)",
   "language": "python",
   "name": "python3"
  },
  "language_info": {
   "codemirror_mode": {
    "name": "ipython",
    "version": 3
   },
   "file_extension": ".py",
   "mimetype": "text/x-python",
   "name": "python",
   "nbconvert_exporter": "python",
   "pygments_lexer": "ipython3",
   "version": "3.11.9"
  }
 },
 "nbformat": 4,
 "nbformat_minor": 5
}
