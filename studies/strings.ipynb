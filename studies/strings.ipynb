{
 "cells": [
  {
   "cell_type": "code",
   "execution_count": 8,
   "id": "4f76f9e8-39b9-4753-9d6d-21d4b04b3255",
   "metadata": {},
   "outputs": [
    {
     "data": {
      "text/plain": [
       "'Hello World'"
      ]
     },
     "execution_count": 8,
     "metadata": {},
     "output_type": "execute_result"
    }
   ],
   "source": [
    "\" \".join(['Hello', 'World'])"
   ]
  },
  {
   "cell_type": "code",
   "execution_count": 9,
   "id": "80a81b27-97f2-4d7d-9110-add01104ee44",
   "metadata": {},
   "outputs": [
    {
     "data": {
      "text/plain": [
       "'hello'"
      ]
     },
     "execution_count": 9,
     "metadata": {},
     "output_type": "execute_result"
    }
   ],
   "source": [
    "\"hello\".lower()"
   ]
  },
  {
   "cell_type": "code",
   "execution_count": 10,
   "id": "190a25cd-0862-4de5-bd20-71f60456d7d6",
   "metadata": {},
   "outputs": [
    {
     "data": {
      "text/plain": [
       "'HELLO'"
      ]
     },
     "execution_count": 10,
     "metadata": {},
     "output_type": "execute_result"
    }
   ],
   "source": [
    "\"HELLO\".upper()"
   ]
  },
  {
   "cell_type": "code",
   "execution_count": 11,
   "id": "74722c5e-ce4f-4266-8b7d-9daaa412ff2a",
   "metadata": {},
   "outputs": [
    {
     "data": {
      "text/plain": [
       "'Hello World'"
      ]
     },
     "execution_count": 11,
     "metadata": {},
     "output_type": "execute_result"
    }
   ],
   "source": [
    "\"hello world\".title()"
   ]
  },
  {
   "cell_type": "code",
   "execution_count": 12,
   "id": "46c79ead-71d8-4e1d-922d-01298a28460d",
   "metadata": {},
   "outputs": [
    {
     "data": {
      "text/plain": [
       "'Hello world'"
      ]
     },
     "execution_count": 12,
     "metadata": {},
     "output_type": "execute_result"
    }
   ],
   "source": [
    "\"hello world\".capitalize()"
   ]
  },
  {
   "cell_type": "code",
   "execution_count": 19,
   "id": "49e14d64-5a23-4da9-95b8-d941fab65691",
   "metadata": {},
   "outputs": [
    {
     "data": {
      "text/plain": [
       "True"
      ]
     },
     "execution_count": 19,
     "metadata": {},
     "output_type": "execute_result"
    }
   ],
   "source": [
    "\"helloworld\".isalpha()"
   ]
  },
  {
   "cell_type": "code",
   "execution_count": 20,
   "id": "d0603768-ae4b-4257-a12b-faa3ed4e9f49",
   "metadata": {},
   "outputs": [
    {
     "data": {
      "text/plain": [
       "'hello'"
      ]
     },
     "execution_count": 20,
     "metadata": {},
     "output_type": "execute_result"
    }
   ],
   "source": [
    "\"  hello  \".strip()"
   ]
  },
  {
   "cell_type": "code",
   "execution_count": 21,
   "id": "a8fd9cf6-f9c2-4376-836e-2f632de4e8e0",
   "metadata": {},
   "outputs": [
    {
     "data": {
      "text/plain": [
       "'hello world'"
      ]
     },
     "execution_count": 21,
     "metadata": {},
     "output_type": "execute_result"
    }
   ],
   "source": [
    "\"hello world   \".rstrip()"
   ]
  },
  {
   "cell_type": "code",
   "execution_count": 22,
   "id": "e0c7763e-b6b6-4fe4-9d5a-d2e40b85279f",
   "metadata": {},
   "outputs": [
    {
     "data": {
      "text/plain": [
       "'hello world'"
      ]
     },
     "execution_count": 22,
     "metadata": {},
     "output_type": "execute_result"
    }
   ],
   "source": [
    "\"     hello world\".lstrip()"
   ]
  },
  {
   "cell_type": "code",
   "execution_count": 23,
   "id": "ae8e7303-6c27-417e-83b3-0001576298c4",
   "metadata": {},
   "outputs": [
    {
     "data": {
      "text/plain": [
       "'hello Python'"
      ]
     },
     "execution_count": 23,
     "metadata": {},
     "output_type": "execute_result"
    }
   ],
   "source": [
    "\"hello world\".replace('world', 'Python')"
   ]
  },
  {
   "cell_type": "code",
   "execution_count": 26,
   "id": "436e69e9-ed29-4c69-b0c7-155f7d0cc1f0",
   "metadata": {},
   "outputs": [
    {
     "name": "stdout",
     "output_type": "stream",
     "text": [
      "6\n"
     ]
    }
   ],
   "source": [
    "pos = \"hello world\".find('world')\n",
    "if pos != -1:\n",
    "    print(pos)"
   ]
  },
  {
   "cell_type": "markdown",
   "id": "e8ebd990-7d86-4981-9468-a7ae8b2d8fba",
   "metadata": {},
   "source": [
    "## Regular Expression"
   ]
  },
  {
   "cell_type": "code",
   "execution_count": 27,
   "id": "eb08f0b2-bf2d-4fe1-88e5-654d7de451b6",
   "metadata": {},
   "outputs": [],
   "source": [
    "import re"
   ]
  },
  {
   "cell_type": "code",
   "execution_count": 36,
   "id": "a3637854-b0e3-4f6f-bf2b-5c0ce533f118",
   "metadata": {},
   "outputs": [
    {
     "name": "stdout",
     "output_type": "stream",
     "text": [
      "String correspondente: 123\n",
      "Início da correspondência: 0\n",
      "Fim da correspondência: 3\n",
      "A correspondência está na string: 123abc\n"
     ]
    }
   ],
   "source": [
    "string = '123abc'\n",
    "result = re.match(r'\\d+', string)\n",
    "if result:\n",
    "    print(\"String correspondente:\",result.group())\n",
    "    print(\"Início da correspondência:\", result.start())\n",
    "    print(\"Fim da correspondência:\", result.end())\n",
    "    print(\"A correspondência está na string:\", result.string)"
   ]
  },
  {
   "cell_type": "code",
   "execution_count": 38,
   "id": "5e26b256-4a5c-4c61-834c-74b1672c7846",
   "metadata": {},
   "outputs": [
    {
     "data": {
      "text/plain": [
       "<re.Match object; span=(3, 6), match='123'>"
      ]
     },
     "execution_count": 38,
     "metadata": {},
     "output_type": "execute_result"
    }
   ],
   "source": [
    "re.search(r'\\d+', 'abc123def')"
   ]
  },
  {
   "cell_type": "code",
   "execution_count": 39,
   "id": "c7e8e92c-cd1a-4226-9846-f8226e2c0389",
   "metadata": {},
   "outputs": [
    {
     "data": {
      "text/plain": [
       "['123', '456']"
      ]
     },
     "execution_count": 39,
     "metadata": {},
     "output_type": "execute_result"
    }
   ],
   "source": [
    "re.findall(r'\\d+', 'abc123def456')"
   ]
  },
  {
   "cell_type": "code",
   "execution_count": 43,
   "id": "3811df25-8e21-457f-8e00-2a443a548212",
   "metadata": {},
   "outputs": [
    {
     "data": {
      "text/plain": [
       "['123', '456']"
      ]
     },
     "execution_count": 43,
     "metadata": {},
     "output_type": "execute_result"
    }
   ],
   "source": [
    "re.findall(r'\\d+', 'abc123def456')"
   ]
  },
  {
   "cell_type": "code",
   "execution_count": 46,
   "id": "eedc72eb-1131-41a1-aa5b-cc04043351c5",
   "metadata": {},
   "outputs": [
    {
     "data": {
      "text/plain": [
       "['abc', 'def']"
      ]
     },
     "execution_count": 46,
     "metadata": {},
     "output_type": "execute_result"
    }
   ],
   "source": [
    "re.findall(r'[a-z]+', 'abc123def456')"
   ]
  },
  {
   "cell_type": "code",
   "execution_count": 47,
   "id": "977432de-8f5a-41ad-8bce-5786062a8f94",
   "metadata": {},
   "outputs": [
    {
     "data": {
      "text/plain": [
       "['abc', 'def', '']"
      ]
     },
     "execution_count": 47,
     "metadata": {},
     "output_type": "execute_result"
    }
   ],
   "source": [
    "re.split(r'\\d+', 'abc123def456')"
   ]
  },
  {
   "cell_type": "code",
   "execution_count": null,
   "id": "0057e6d1-28de-4af4-b4a2-20fbfae4f96d",
   "metadata": {},
   "outputs": [],
   "source": []
  },
  {
   "cell_type": "code",
   "execution_count": null,
   "id": "bf2d040d-f269-401d-a22e-434db372dcc4",
   "metadata": {},
   "outputs": [],
   "source": []
  },
  {
   "cell_type": "code",
   "execution_count": null,
   "id": "a5dc9155-2d37-4739-bbf5-e25ffc2162e6",
   "metadata": {},
   "outputs": [],
   "source": [
    "def closest_temperature(temperatures:list)-> int:\n",
    "    \n",
    "    closest = temperatures[0]\n",
    "    \n",
    "    for temp in temperatures:\n",
    "        \n",
    "        if (abs(temp) < abs(closest)) or ( (abs(temp) == abs(closest)) and (temp > closest) ):\n",
    "            closest = temp\n",
    "    \n",
    "    return closest\n"
   ]
  },
  {
   "cell_type": "code",
   "execution_count": null,
   "id": "73f089a9-d40c-4118-81e0-f3e57f361673",
   "metadata": {},
   "outputs": [],
   "source": []
  },
  {
   "cell_type": "code",
   "execution_count": null,
   "id": "89d43e36-5f94-4b9f-a84e-cc8ea4de6fdf",
   "metadata": {},
   "outputs": [],
   "source": []
  },
  {
   "cell_type": "code",
   "execution_count": null,
   "id": "79e02e28-0c20-41cf-9077-5abb04fc7ef4",
   "metadata": {},
   "outputs": [],
   "source": []
  },
  {
   "cell_type": "code",
   "execution_count": null,
   "id": "c794371e-243f-4852-af64-db791d5258f7",
   "metadata": {},
   "outputs": [],
   "source": [
    "\n",
    "\n",
    "# 2. re.search()\n",
    "# Procura pela primeira ocorrência da expressão em toda a string\n",
    "result = re.search(r'\\d+', 'abc123def')\n",
    "# Output: <re.Match object; span=(3, 6), match='123'>\n",
    "\n",
    "# 3. re.findall()\n",
    "# Retorna todas as correspondências da expressão em uma lista\n",
    "result = re.findall(r'\\d+', 'abc123def456')\n",
    "# Output: ['123', '456']\n",
    "\n",
    "# 4. re.finditer()\n",
    "# Retorna um iterador de correspondências\n",
    "result = list(re.finditer(r'\\d+', 'abc123def456'))\n",
    "# Output: [<re.Match object; span=(3, 6), match='123'>, <re.Match object; span=(9, 12), match='456'>]\n",
    "\n",
    "# 5. re.sub()\n",
    "# Substitui as ocorrências da expressão por outra string\n",
    "result = re.sub(r'\\d+', 'NUM', 'abc123def456')\n",
    "# Output: 'abcNUMdefNUM'\n",
    "\n",
    "# 6. re.split()\n",
    "# Divide a string com base na expressão regular\n",
    "result = re.split(r'\\d+', 'abc123def456')\n",
    "# Output: ['abc', 'def', '']\n",
    "\n",
    "# 7. re.compile()\n",
    "# Compila uma expressão regular em um objeto de expressão regular\n",
    "pattern = re.compile(r'\\d+')\n",
    "result = pattern.findall('abc123def456')\n",
    "# Output: ['123', '456']\n",
    "\n",
    "# 8. re.IGNORECASE (flag)\n",
    "# Ignora diferenças entre maiúsculas e minúsculas\n",
    "result = re.findall(r'abc', 'ABCabcAbC', re.IGNORECASE)\n",
    "# Output: ['ABC', 'abc', 'AbC']\n",
    "\n",
    "# 9. re.DOTALL (flag)\n",
    "# Permite que '.' corresponda a caracteres de nova linha\n",
    "result = re.findall(r'a.b', 'a\\nb', re.DOTALL)\n",
    "# Output: ['a\\nb']\n",
    "\n",
    "# 10. re.MULTILINE (flag)\n",
    "# Faz com que '^' e '$' correspondam ao início e ao fim de cada linha\n",
    "result = re.findall(r'^a', 'a\\nb\\na', re.MULTILINE)\n",
    "# Output: ['a', 'a']\n"
   ]
  }
 ],
 "metadata": {
  "kernelspec": {
   "display_name": "Python 3 (ipykernel)",
   "language": "python",
   "name": "python3"
  },
  "language_info": {
   "codemirror_mode": {
    "name": "ipython",
    "version": 3
   },
   "file_extension": ".py",
   "mimetype": "text/x-python",
   "name": "python",
   "nbconvert_exporter": "python",
   "pygments_lexer": "ipython3",
   "version": "3.11.9"
  }
 },
 "nbformat": 4,
 "nbformat_minor": 5
}
